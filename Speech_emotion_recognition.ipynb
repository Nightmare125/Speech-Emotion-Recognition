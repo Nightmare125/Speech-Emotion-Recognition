{
  "nbformat": 4,
  "nbformat_minor": 0,
  "metadata": {
    "colab": {
      "provenance": [],
      "include_colab_link": true
    },
    "kernelspec": {
      "name": "python3",
      "display_name": "Python 3"
    },
    "language_info": {
      "name": "python"
    }
  },
  "cells": [
    {
      "cell_type": "markdown",
      "metadata": {
        "id": "view-in-github",
        "colab_type": "text"
      },
      "source": [
        "<a href=\"https://colab.research.google.com/github/Nightmare125/Speech-Emotion-Recognition/blob/main/Speech_emotion_recognition.ipynb\" target=\"_parent\"><img src=\"https://colab.research.google.com/assets/colab-badge.svg\" alt=\"Open In Colab\"/></a>"
      ]
    },
    {
      "cell_type": "code",
      "execution_count": 1,
      "metadata": {
        "colab": {
          "base_uri": "https://localhost:8080/"
        },
        "id": "eq0Km-vIdQTD",
        "outputId": "d5e2850f-1fb4-4cf8-d478-4c793bf608da"
      },
      "outputs": [
        {
          "output_type": "stream",
          "name": "stdout",
          "text": [
            "Loaded Libraries\n"
          ]
        }
      ],
      "source": [
        "import numpy as np # linear algebra\n",
        "import pandas as pd # data processing, CSV file I/O(e.g. pd.rad_csv)\n",
        "import os #to use operating system dependent functionality\n",
        "import librosa # To extract speech features\n",
        "import wave # read and write WAV files\n",
        "import matplotlib.pyplot as plt # to generate the visualisation\n",
        "\n",
        "\n",
        "#MLP Classifier\n",
        "from sklearn.model_selection import train_test_split\n",
        "from sklearn.neural_network import MLPClassifier\n",
        "from sklearn.metrics import accuracy_score\n",
        "\n",
        "#LSTM Classifier\n",
        "import keras\n",
        "from tensorflow.keras.utils import to_categorical\n",
        "from keras.models import Sequential\n",
        "from keras.layers import *\n",
        "from tensorflow.keras.optimizers import RMSprop\n",
        "\n",
        "print(\"Loaded Libraries\")"
      ]
    },
    {
      "cell_type": "code",
      "source": [
        "from google.colab import drive\n",
        "drive.mount('/content/drive')"
      ],
      "metadata": {
        "colab": {
          "base_uri": "https://localhost:8080/"
        },
        "id": "926rK-Jlk3TL",
        "outputId": "4bbdfb9b-cb5d-4c8a-b943-994fadf1bccf"
      },
      "execution_count": 2,
      "outputs": [
        {
          "output_type": "stream",
          "name": "stdout",
          "text": [
            "Mounted at /content/drive\n"
          ]
        }
      ]
    },
    {
      "cell_type": "code",
      "source": [
        "def extract_mfcc(wav_file_name):\n",
        "# This function extracts mfcc features and obtains the mean of each dimension\n",
        "# Input : path_to_wav_file\n",
        "# Output : mfcc_features '''\n",
        " y, sr = librosa.load(wav_file_name)\n",
        " mfccs = np.mean(librosa.feature.mfcc(y=y, sr=sr, n_mfcc=40).T,axis=0)\n",
        " return mfccs"
      ],
      "metadata": {
        "id": "gRvki1rVmLf6"
      },
      "execution_count": 3,
      "outputs": []
    },
    {
      "cell_type": "markdown",
      "source": [
        "##Load Dataset\n"
      ],
      "metadata": {
        "id": "6NjPzo52pHOr"
      }
    },
    {
      "cell_type": "code",
      "source": [
        "speech_labels = [] #to save extracted labels/file\n",
        "speech_data =[] #to save extracted features\n",
        "for dirname, _, filenames in os.walk('/content/drive/MyDrive/ravdess'):\n",
        "  for filename in filenames:\n",
        "    #print(os.path.join(dirname, filename))\n",
        "    speech_labels.append(int(filename[7:8]) - 1)#the index 7 and 8 of the file name represent the emotion label\n",
        "    wav_file_name = os.path.join(dirname, filename)\n",
        "    speech_data.append(extract_mfcc(wav_file_name))\n",
        "print(\"Dataset Loaded\")\n"
      ],
      "metadata": {
        "id": "2VR6veSKp8Wf",
        "outputId": "da5aefb7-39c8-4279-b5d8-198ab86c66af",
        "colab": {
          "base_uri": "https://localhost:8080/"
        }
      },
      "execution_count": 4,
      "outputs": [
        {
          "output_type": "stream",
          "name": "stdout",
          "text": [
            "Dataset Loaded\n"
          ]
        }
      ]
    },
    {
      "cell_type": "code",
      "source": [
        "speech_data"
      ],
      "metadata": {
        "id": "UZH3o2M-8Ei9"
      },
      "execution_count": null,
      "outputs": []
    },
    {
      "cell_type": "code",
      "source": [
        "# convert label and data to arrays\n",
        "speech_data_array = np.asarray(speech_data)#convert input into an array\n",
        "speech_label_array = np.array(speech_labels)\n",
        "speech_label_array.shape #get tuple of array dimensions\n",
        "\n",
        "# make categorical labels\n",
        "labels_categorical = to_categorical(speech_label_array) #converts a class vector to binary matrix\n",
        "labels_categorical.shape"
      ],
      "metadata": {
        "id": "F1JKPZ038hrj"
      },
      "execution_count": null,
      "outputs": []
    },
    {
      "cell_type": "code",
      "source": [
        "speech_data_array.shape"
      ],
      "metadata": {
        "id": "K4Olu5vr-Vd1",
        "outputId": "565a4b9a-0f22-458a-e598-675d69fbce6b",
        "colab": {
          "base_uri": "https://localhost:8080/"
        }
      },
      "execution_count": 7,
      "outputs": [
        {
          "output_type": "execute_result",
          "data": {
            "text/plain": [
              "(1455, 40)"
            ]
          },
          "metadata": {},
          "execution_count": 7
        }
      ]
    },
    {
      "cell_type": "code",
      "source": [
        "x_train,x_test,y_train,y_test = train_test_split(np.array(speech_data_array),labels_categorical, test_size=0.20, random_state=9)"
      ],
      "metadata": {
        "id": "nXaCh_Kd-uGl"
      },
      "execution_count": 8,
      "outputs": []
    },
    {
      "cell_type": "code",
      "source": [
        "from tensorflow.python import training\n",
        "#Split the training, validating and testing sets\n",
        "number_of_samples = speech_data_array.shape[0]\n",
        "training_samples = int(number_of_samples * 0.8)\n",
        "validation_samples = int(number_of_samples * 0.1)\n",
        "test_samples = int(number_of_samples *0.1)\n"
      ],
      "metadata": {
        "id": "TLqhwkE3_kYl"
      },
      "execution_count": 9,
      "outputs": []
    },
    {
      "cell_type": "code",
      "source": [
        "#Define the LSTM Model\n",
        "def create_model_LSTM():\n",
        "  model = Sequential()\n",
        "  model.add(LSTM(128, return_sequences=False, input_shape=(40,1)))\n",
        "  model.add(Dense(64))\n",
        "  model.add((Dropout(0.4)))\n",
        "  model.add(Activation(\"relu\"))\n",
        "  model.add(Dense(32))\n",
        "  model.add(Dropout(0.4))\n",
        "  model.add(Activation(\"relu\"))\n",
        "  model.add(Dense(8))\n",
        "  model.add(Activation(\"softmax\"))\n",
        "  \n",
        "  #configures the model for training\n",
        "  model.compile(loss = 'categorical_crossentropy', optimizer = 'Adam', metrics=['accuracy'])\n",
        "  return model\n",
        "\n",
        " \n",
        " "
      ],
      "metadata": {
        "id": "i3SaRs7J4Rri"
      },
      "execution_count": 14,
      "outputs": []
    },
    {
      "cell_type": "code",
      "source": [
        "w = np.expand_dims(speech_data_array[:training_samples], -1)"
      ],
      "metadata": {
        "id": "C_vPx7XB_j9R"
      },
      "execution_count": 15,
      "outputs": []
    },
    {
      "cell_type": "code",
      "source": [
        "w.shape"
      ],
      "metadata": {
        "id": "v_N7gge-AApV",
        "outputId": "0872a9ab-b757-4e44-8d5b-cda739e1d2d0",
        "colab": {
          "base_uri": "https://localhost:8080/"
        }
      },
      "execution_count": 16,
      "outputs": [
        {
          "output_type": "execute_result",
          "data": {
            "text/plain": [
              "(1164, 40, 1)"
            ]
          },
          "metadata": {},
          "execution_count": 16
        }
      ]
    },
    {
      "cell_type": "code",
      "source": [
        "#train using LSTM model\n",
        "model_A = create_model_LSTM()\n",
        "history = model_A.fit(np.expand_dims(speech_data_array[:training_samples], -1), labels_categorical[:training_samples], validation_data=(np.expand_dims(speech_data_array[training_samples:training_samples+validation_samples], -1), labels_categorical[training_samples:training_samples+validation_samples]), epochs = 200, shuffle = True)"
      ],
      "metadata": {
        "id": "ehwx0JdYCwBq",
        "outputId": "12711169-ac78-4a82-b0c7-30eca79694cb",
        "colab": {
          "base_uri": "https://localhost:8080/"
        }
      },
      "execution_count": 24,
      "outputs": [
        {
          "output_type": "stream",
          "name": "stdout",
          "text": [
            "Epoch 1/200\n",
            "37/37 [==============================] - 6s 80ms/step - loss: 2.0769 - accuracy: 0.1400 - val_loss: 2.0518 - val_accuracy: 0.1586\n",
            "Epoch 2/200\n",
            "37/37 [==============================] - 2s 62ms/step - loss: 2.0540 - accuracy: 0.1615 - val_loss: 2.0424 - val_accuracy: 0.2138\n",
            "Epoch 3/200\n",
            "37/37 [==============================] - 2s 62ms/step - loss: 2.0433 - accuracy: 0.1615 - val_loss: 2.0262 - val_accuracy: 0.2276\n",
            "Epoch 4/200\n",
            "37/37 [==============================] - 2s 62ms/step - loss: 2.0229 - accuracy: 0.1993 - val_loss: 1.9711 - val_accuracy: 0.3862\n",
            "Epoch 5/200\n",
            "37/37 [==============================] - 2s 60ms/step - loss: 1.9803 - accuracy: 0.2311 - val_loss: 1.9496 - val_accuracy: 0.2552\n",
            "Epoch 6/200\n",
            "37/37 [==============================] - 2s 61ms/step - loss: 1.9527 - accuracy: 0.2440 - val_loss: 1.9488 - val_accuracy: 0.2552\n",
            "Epoch 7/200\n",
            "37/37 [==============================] - 2s 61ms/step - loss: 1.9586 - accuracy: 0.2208 - val_loss: 1.8980 - val_accuracy: 0.3241\n",
            "Epoch 8/200\n",
            "37/37 [==============================] - 2s 63ms/step - loss: 1.9211 - accuracy: 0.2543 - val_loss: 1.8685 - val_accuracy: 0.3379\n",
            "Epoch 9/200\n",
            "37/37 [==============================] - 2s 63ms/step - loss: 1.8840 - accuracy: 0.2586 - val_loss: 1.8529 - val_accuracy: 0.3034\n",
            "Epoch 10/200\n",
            "37/37 [==============================] - 2s 62ms/step - loss: 1.8794 - accuracy: 0.2861 - val_loss: 1.7942 - val_accuracy: 0.3448\n",
            "Epoch 11/200\n",
            "37/37 [==============================] - 2s 62ms/step - loss: 1.8641 - accuracy: 0.2835 - val_loss: 1.8527 - val_accuracy: 0.2483\n",
            "Epoch 12/200\n",
            "37/37 [==============================] - 2s 62ms/step - loss: 1.8505 - accuracy: 0.2904 - val_loss: 1.8973 - val_accuracy: 0.2138\n",
            "Epoch 13/200\n",
            "37/37 [==============================] - 2s 60ms/step - loss: 1.8544 - accuracy: 0.2990 - val_loss: 1.8330 - val_accuracy: 0.2966\n",
            "Epoch 14/200\n",
            "37/37 [==============================] - 2s 61ms/step - loss: 1.8348 - accuracy: 0.3050 - val_loss: 1.8532 - val_accuracy: 0.3034\n",
            "Epoch 15/200\n",
            "37/37 [==============================] - 2s 62ms/step - loss: 1.8262 - accuracy: 0.2973 - val_loss: 1.7845 - val_accuracy: 0.3655\n",
            "Epoch 16/200\n",
            "37/37 [==============================] - 2s 62ms/step - loss: 1.8113 - accuracy: 0.2981 - val_loss: 1.8729 - val_accuracy: 0.2828\n",
            "Epoch 17/200\n",
            "37/37 [==============================] - 2s 61ms/step - loss: 1.8096 - accuracy: 0.3093 - val_loss: 1.8157 - val_accuracy: 0.3034\n",
            "Epoch 18/200\n",
            "37/37 [==============================] - 2s 61ms/step - loss: 1.7987 - accuracy: 0.3213 - val_loss: 1.8362 - val_accuracy: 0.2759\n",
            "Epoch 19/200\n",
            "37/37 [==============================] - 2s 61ms/step - loss: 1.8148 - accuracy: 0.2887 - val_loss: 1.8613 - val_accuracy: 0.3172\n",
            "Epoch 20/200\n",
            "37/37 [==============================] - 2s 61ms/step - loss: 1.7855 - accuracy: 0.3033 - val_loss: 1.8688 - val_accuracy: 0.2966\n",
            "Epoch 21/200\n",
            "37/37 [==============================] - 2s 61ms/step - loss: 1.7783 - accuracy: 0.3162 - val_loss: 1.8440 - val_accuracy: 0.3172\n",
            "Epoch 22/200\n",
            "37/37 [==============================] - 2s 63ms/step - loss: 1.7449 - accuracy: 0.3290 - val_loss: 1.8410 - val_accuracy: 0.3172\n",
            "Epoch 23/200\n",
            "37/37 [==============================] - 2s 61ms/step - loss: 1.7552 - accuracy: 0.3179 - val_loss: 1.9104 - val_accuracy: 0.2897\n",
            "Epoch 24/200\n",
            "37/37 [==============================] - 2s 61ms/step - loss: 1.7531 - accuracy: 0.3230 - val_loss: 1.9642 - val_accuracy: 0.1793\n",
            "Epoch 25/200\n",
            "37/37 [==============================] - 2s 60ms/step - loss: 1.7510 - accuracy: 0.3376 - val_loss: 1.9105 - val_accuracy: 0.2759\n",
            "Epoch 26/200\n",
            "37/37 [==============================] - 2s 61ms/step - loss: 1.7186 - accuracy: 0.3273 - val_loss: 1.9200 - val_accuracy: 0.2690\n",
            "Epoch 27/200\n",
            "37/37 [==============================] - 2s 62ms/step - loss: 1.7284 - accuracy: 0.3445 - val_loss: 1.8569 - val_accuracy: 0.2897\n",
            "Epoch 28/200\n",
            "37/37 [==============================] - 2s 64ms/step - loss: 1.7142 - accuracy: 0.3342 - val_loss: 1.8584 - val_accuracy: 0.2828\n",
            "Epoch 29/200\n",
            "37/37 [==============================] - 2s 64ms/step - loss: 1.7271 - accuracy: 0.3359 - val_loss: 1.8555 - val_accuracy: 0.2897\n",
            "Epoch 30/200\n",
            "37/37 [==============================] - 2s 61ms/step - loss: 1.6654 - accuracy: 0.3634 - val_loss: 1.9049 - val_accuracy: 0.3034\n",
            "Epoch 31/200\n",
            "37/37 [==============================] - 3s 85ms/step - loss: 1.6665 - accuracy: 0.3625 - val_loss: 1.9039 - val_accuracy: 0.2621\n",
            "Epoch 32/200\n",
            "37/37 [==============================] - 4s 115ms/step - loss: 1.6611 - accuracy: 0.3608 - val_loss: 1.9015 - val_accuracy: 0.2552\n",
            "Epoch 33/200\n",
            "37/37 [==============================] - 2s 63ms/step - loss: 1.6838 - accuracy: 0.3505 - val_loss: 1.8028 - val_accuracy: 0.3034\n",
            "Epoch 34/200\n",
            "37/37 [==============================] - 2s 62ms/step - loss: 1.6849 - accuracy: 0.3660 - val_loss: 1.9061 - val_accuracy: 0.2345\n",
            "Epoch 35/200\n",
            "37/37 [==============================] - 2s 63ms/step - loss: 1.6640 - accuracy: 0.3540 - val_loss: 1.8775 - val_accuracy: 0.2345\n",
            "Epoch 36/200\n",
            "37/37 [==============================] - 2s 62ms/step - loss: 1.6357 - accuracy: 0.3634 - val_loss: 1.9033 - val_accuracy: 0.2621\n",
            "Epoch 37/200\n",
            "37/37 [==============================] - 2s 60ms/step - loss: 1.6308 - accuracy: 0.3600 - val_loss: 1.8968 - val_accuracy: 0.2690\n",
            "Epoch 38/200\n",
            "37/37 [==============================] - 2s 61ms/step - loss: 1.6446 - accuracy: 0.3582 - val_loss: 1.8921 - val_accuracy: 0.3103\n",
            "Epoch 39/200\n",
            "37/37 [==============================] - 2s 62ms/step - loss: 1.6200 - accuracy: 0.3900 - val_loss: 1.8765 - val_accuracy: 0.2828\n",
            "Epoch 40/200\n",
            "37/37 [==============================] - 2s 63ms/step - loss: 1.5885 - accuracy: 0.4012 - val_loss: 1.8621 - val_accuracy: 0.3241\n",
            "Epoch 41/200\n",
            "37/37 [==============================] - 2s 63ms/step - loss: 1.5935 - accuracy: 0.3960 - val_loss: 1.8971 - val_accuracy: 0.2483\n",
            "Epoch 42/200\n",
            "37/37 [==============================] - 3s 85ms/step - loss: 1.6099 - accuracy: 0.3754 - val_loss: 1.9473 - val_accuracy: 0.3310\n",
            "Epoch 43/200\n",
            "37/37 [==============================] - 4s 96ms/step - loss: 1.6054 - accuracy: 0.3711 - val_loss: 1.9508 - val_accuracy: 0.3172\n",
            "Epoch 44/200\n",
            "37/37 [==============================] - 2s 63ms/step - loss: 1.5469 - accuracy: 0.4253 - val_loss: 1.9877 - val_accuracy: 0.3448\n",
            "Epoch 45/200\n",
            "37/37 [==============================] - 2s 61ms/step - loss: 1.5184 - accuracy: 0.4287 - val_loss: 2.0854 - val_accuracy: 0.2897\n",
            "Epoch 46/200\n",
            "37/37 [==============================] - 2s 63ms/step - loss: 1.5177 - accuracy: 0.4098 - val_loss: 1.9698 - val_accuracy: 0.2690\n",
            "Epoch 47/200\n",
            "37/37 [==============================] - 2s 60ms/step - loss: 1.5076 - accuracy: 0.4167 - val_loss: 1.9821 - val_accuracy: 0.2345\n",
            "Epoch 48/200\n",
            "37/37 [==============================] - 2s 63ms/step - loss: 1.5492 - accuracy: 0.4003 - val_loss: 1.9776 - val_accuracy: 0.2414\n",
            "Epoch 49/200\n",
            "37/37 [==============================] - 2s 62ms/step - loss: 1.5439 - accuracy: 0.4184 - val_loss: 2.0018 - val_accuracy: 0.2759\n",
            "Epoch 50/200\n",
            "37/37 [==============================] - 2s 62ms/step - loss: 1.4597 - accuracy: 0.4450 - val_loss: 1.9679 - val_accuracy: 0.3241\n",
            "Epoch 51/200\n",
            "37/37 [==============================] - 2s 62ms/step - loss: 1.4434 - accuracy: 0.4467 - val_loss: 1.9918 - val_accuracy: 0.3172\n",
            "Epoch 52/200\n",
            "37/37 [==============================] - 2s 61ms/step - loss: 1.4653 - accuracy: 0.4373 - val_loss: 2.0636 - val_accuracy: 0.2966\n",
            "Epoch 53/200\n",
            "37/37 [==============================] - 2s 62ms/step - loss: 1.4339 - accuracy: 0.4442 - val_loss: 1.9520 - val_accuracy: 0.2966\n",
            "Epoch 54/200\n",
            "37/37 [==============================] - 2s 62ms/step - loss: 1.3963 - accuracy: 0.4562 - val_loss: 1.9862 - val_accuracy: 0.3310\n",
            "Epoch 55/200\n",
            "37/37 [==============================] - 2s 61ms/step - loss: 1.3773 - accuracy: 0.4682 - val_loss: 1.8918 - val_accuracy: 0.2966\n",
            "Epoch 56/200\n",
            "37/37 [==============================] - 2s 61ms/step - loss: 1.4233 - accuracy: 0.4545 - val_loss: 2.0259 - val_accuracy: 0.2828\n",
            "Epoch 57/200\n",
            "37/37 [==============================] - 2s 64ms/step - loss: 1.3601 - accuracy: 0.4991 - val_loss: 2.0089 - val_accuracy: 0.3379\n",
            "Epoch 58/200\n",
            "37/37 [==============================] - 2s 61ms/step - loss: 1.3551 - accuracy: 0.4983 - val_loss: 1.9262 - val_accuracy: 0.3172\n",
            "Epoch 59/200\n",
            "37/37 [==============================] - 2s 63ms/step - loss: 1.3725 - accuracy: 0.4931 - val_loss: 2.0793 - val_accuracy: 0.3241\n",
            "Epoch 60/200\n",
            "37/37 [==============================] - 2s 61ms/step - loss: 1.3270 - accuracy: 0.4785 - val_loss: 2.0566 - val_accuracy: 0.2966\n",
            "Epoch 61/200\n",
            "37/37 [==============================] - 2s 62ms/step - loss: 1.3141 - accuracy: 0.5034 - val_loss: 2.0550 - val_accuracy: 0.3034\n",
            "Epoch 62/200\n",
            "37/37 [==============================] - 2s 62ms/step - loss: 1.2976 - accuracy: 0.5275 - val_loss: 2.0223 - val_accuracy: 0.3172\n",
            "Epoch 63/200\n",
            "37/37 [==============================] - 2s 63ms/step - loss: 1.2796 - accuracy: 0.5180 - val_loss: 2.2684 - val_accuracy: 0.3517\n",
            "Epoch 64/200\n",
            "37/37 [==============================] - 2s 64ms/step - loss: 1.2954 - accuracy: 0.5095 - val_loss: 2.0234 - val_accuracy: 0.3517\n",
            "Epoch 65/200\n",
            "37/37 [==============================] - 2s 62ms/step - loss: 1.2501 - accuracy: 0.5103 - val_loss: 2.1420 - val_accuracy: 0.3448\n",
            "Epoch 66/200\n",
            "37/37 [==============================] - 2s 65ms/step - loss: 1.2064 - accuracy: 0.5284 - val_loss: 2.0997 - val_accuracy: 0.3103\n",
            "Epoch 67/200\n",
            "37/37 [==============================] - 2s 62ms/step - loss: 1.1910 - accuracy: 0.5524 - val_loss: 2.2202 - val_accuracy: 0.3310\n",
            "Epoch 68/200\n",
            "37/37 [==============================] - 2s 62ms/step - loss: 1.1454 - accuracy: 0.5739 - val_loss: 2.2088 - val_accuracy: 0.3241\n",
            "Epoch 69/200\n",
            "37/37 [==============================] - 2s 61ms/step - loss: 1.2441 - accuracy: 0.5387 - val_loss: 2.2240 - val_accuracy: 0.3172\n",
            "Epoch 70/200\n",
            "37/37 [==============================] - 2s 62ms/step - loss: 1.1771 - accuracy: 0.5421 - val_loss: 2.2828 - val_accuracy: 0.2966\n",
            "Epoch 71/200\n",
            "37/37 [==============================] - 2s 62ms/step - loss: 1.1816 - accuracy: 0.5387 - val_loss: 2.1068 - val_accuracy: 0.3448\n",
            "Epoch 72/200\n",
            "37/37 [==============================] - 2s 63ms/step - loss: 1.1287 - accuracy: 0.5679 - val_loss: 2.2132 - val_accuracy: 0.2966\n",
            "Epoch 73/200\n",
            "37/37 [==============================] - 2s 61ms/step - loss: 1.1378 - accuracy: 0.5756 - val_loss: 2.2121 - val_accuracy: 0.3448\n",
            "Epoch 74/200\n",
            "37/37 [==============================] - 2s 61ms/step - loss: 1.1446 - accuracy: 0.5679 - val_loss: 2.3015 - val_accuracy: 0.3379\n",
            "Epoch 75/200\n",
            "37/37 [==============================] - 2s 62ms/step - loss: 1.0965 - accuracy: 0.6005 - val_loss: 2.1565 - val_accuracy: 0.3517\n",
            "Epoch 76/200\n",
            "37/37 [==============================] - 2s 61ms/step - loss: 1.0568 - accuracy: 0.5997 - val_loss: 2.1006 - val_accuracy: 0.3310\n",
            "Epoch 77/200\n",
            "37/37 [==============================] - 2s 62ms/step - loss: 1.0853 - accuracy: 0.6074 - val_loss: 2.1919 - val_accuracy: 0.2828\n",
            "Epoch 78/200\n",
            "37/37 [==============================] - 2s 62ms/step - loss: 1.0297 - accuracy: 0.6031 - val_loss: 2.3319 - val_accuracy: 0.2897\n",
            "Epoch 79/200\n",
            "37/37 [==============================] - 2s 63ms/step - loss: 1.0041 - accuracy: 0.6040 - val_loss: 2.1477 - val_accuracy: 0.3448\n",
            "Epoch 80/200\n",
            "37/37 [==============================] - 2s 63ms/step - loss: 1.0416 - accuracy: 0.6117 - val_loss: 2.4462 - val_accuracy: 0.2828\n",
            "Epoch 81/200\n",
            "37/37 [==============================] - 2s 63ms/step - loss: 0.9574 - accuracy: 0.6349 - val_loss: 2.4464 - val_accuracy: 0.3034\n",
            "Epoch 82/200\n",
            "37/37 [==============================] - 2s 62ms/step - loss: 0.9640 - accuracy: 0.6340 - val_loss: 2.4746 - val_accuracy: 0.2897\n",
            "Epoch 83/200\n",
            "37/37 [==============================] - 2s 62ms/step - loss: 0.9721 - accuracy: 0.6392 - val_loss: 2.3675 - val_accuracy: 0.3448\n",
            "Epoch 84/200\n",
            "37/37 [==============================] - 2s 62ms/step - loss: 0.8931 - accuracy: 0.6598 - val_loss: 2.5619 - val_accuracy: 0.3103\n",
            "Epoch 85/200\n",
            "37/37 [==============================] - 2s 63ms/step - loss: 0.8701 - accuracy: 0.6735 - val_loss: 2.3791 - val_accuracy: 0.3517\n",
            "Epoch 86/200\n",
            "37/37 [==============================] - 2s 62ms/step - loss: 0.8899 - accuracy: 0.6830 - val_loss: 2.4710 - val_accuracy: 0.3517\n",
            "Epoch 87/200\n",
            "37/37 [==============================] - 2s 62ms/step - loss: 0.9963 - accuracy: 0.6340 - val_loss: 2.6767 - val_accuracy: 0.3034\n",
            "Epoch 88/200\n",
            "37/37 [==============================] - 2s 63ms/step - loss: 0.9935 - accuracy: 0.6460 - val_loss: 2.8314 - val_accuracy: 0.3310\n",
            "Epoch 89/200\n",
            "37/37 [==============================] - 2s 62ms/step - loss: 1.0084 - accuracy: 0.6289 - val_loss: 2.4627 - val_accuracy: 0.3793\n",
            "Epoch 90/200\n",
            "37/37 [==============================] - 2s 61ms/step - loss: 0.9056 - accuracy: 0.6804 - val_loss: 2.5829 - val_accuracy: 0.3517\n",
            "Epoch 91/200\n",
            "37/37 [==============================] - 2s 62ms/step - loss: 0.7964 - accuracy: 0.7062 - val_loss: 2.4687 - val_accuracy: 0.3379\n",
            "Epoch 92/200\n",
            "37/37 [==============================] - 2s 62ms/step - loss: 0.7530 - accuracy: 0.7105 - val_loss: 2.8394 - val_accuracy: 0.3103\n",
            "Epoch 93/200\n",
            "37/37 [==============================] - 2s 62ms/step - loss: 0.7577 - accuracy: 0.7105 - val_loss: 3.0615 - val_accuracy: 0.2621\n",
            "Epoch 94/200\n",
            "37/37 [==============================] - 2s 63ms/step - loss: 0.7942 - accuracy: 0.7122 - val_loss: 3.4435 - val_accuracy: 0.2552\n",
            "Epoch 95/200\n",
            "37/37 [==============================] - 2s 61ms/step - loss: 0.7819 - accuracy: 0.6942 - val_loss: 2.9381 - val_accuracy: 0.2759\n",
            "Epoch 96/200\n",
            "37/37 [==============================] - 2s 63ms/step - loss: 0.7087 - accuracy: 0.7371 - val_loss: 3.0972 - val_accuracy: 0.2690\n",
            "Epoch 97/200\n",
            "37/37 [==============================] - 2s 62ms/step - loss: 0.7034 - accuracy: 0.7440 - val_loss: 3.0399 - val_accuracy: 0.2483\n",
            "Epoch 98/200\n",
            "37/37 [==============================] - 2s 64ms/step - loss: 0.7976 - accuracy: 0.7122 - val_loss: 2.9575 - val_accuracy: 0.2966\n",
            "Epoch 99/200\n",
            "37/37 [==============================] - 2s 61ms/step - loss: 0.9295 - accuracy: 0.6847 - val_loss: 2.4593 - val_accuracy: 0.3172\n",
            "Epoch 100/200\n",
            "37/37 [==============================] - 2s 62ms/step - loss: 0.7844 - accuracy: 0.7277 - val_loss: 2.8461 - val_accuracy: 0.3034\n",
            "Epoch 101/200\n",
            "37/37 [==============================] - 2s 61ms/step - loss: 0.6749 - accuracy: 0.7509 - val_loss: 3.1713 - val_accuracy: 0.2966\n",
            "Epoch 102/200\n",
            "37/37 [==============================] - 2s 61ms/step - loss: 0.6472 - accuracy: 0.7637 - val_loss: 3.0869 - val_accuracy: 0.2414\n",
            "Epoch 103/200\n",
            "37/37 [==============================] - 2s 63ms/step - loss: 0.6312 - accuracy: 0.7732 - val_loss: 3.2083 - val_accuracy: 0.2828\n",
            "Epoch 104/200\n",
            "37/37 [==============================] - 2s 62ms/step - loss: 0.6579 - accuracy: 0.7509 - val_loss: 3.0668 - val_accuracy: 0.2966\n",
            "Epoch 105/200\n",
            "37/37 [==============================] - 2s 63ms/step - loss: 0.6441 - accuracy: 0.7655 - val_loss: 2.9679 - val_accuracy: 0.2897\n",
            "Epoch 106/200\n",
            "37/37 [==============================] - 2s 62ms/step - loss: 0.6529 - accuracy: 0.7706 - val_loss: 3.0204 - val_accuracy: 0.3172\n",
            "Epoch 107/200\n",
            "37/37 [==============================] - 2s 62ms/step - loss: 0.5488 - accuracy: 0.7921 - val_loss: 3.4450 - val_accuracy: 0.2621\n",
            "Epoch 108/200\n",
            "37/37 [==============================] - 2s 62ms/step - loss: 0.5785 - accuracy: 0.7766 - val_loss: 3.3202 - val_accuracy: 0.2414\n",
            "Epoch 109/200\n",
            "37/37 [==============================] - 2s 61ms/step - loss: 0.8327 - accuracy: 0.7285 - val_loss: 3.7589 - val_accuracy: 0.2828\n",
            "Epoch 110/200\n",
            "37/37 [==============================] - 2s 63ms/step - loss: 1.0225 - accuracy: 0.6598 - val_loss: 2.4940 - val_accuracy: 0.3724\n",
            "Epoch 111/200\n",
            "37/37 [==============================] - 2s 62ms/step - loss: 0.6996 - accuracy: 0.7560 - val_loss: 3.0196 - val_accuracy: 0.3034\n",
            "Epoch 112/200\n",
            "37/37 [==============================] - 2s 63ms/step - loss: 0.5388 - accuracy: 0.8170 - val_loss: 2.8598 - val_accuracy: 0.3103\n",
            "Epoch 113/200\n",
            "37/37 [==============================] - 2s 62ms/step - loss: 0.5721 - accuracy: 0.8076 - val_loss: 3.0362 - val_accuracy: 0.3172\n",
            "Epoch 114/200\n",
            "37/37 [==============================] - 2s 62ms/step - loss: 0.5625 - accuracy: 0.8076 - val_loss: 3.5162 - val_accuracy: 0.2966\n",
            "Epoch 115/200\n",
            "37/37 [==============================] - 2s 61ms/step - loss: 0.5739 - accuracy: 0.7938 - val_loss: 3.1841 - val_accuracy: 0.3103\n",
            "Epoch 116/200\n",
            "37/37 [==============================] - 2s 62ms/step - loss: 0.5389 - accuracy: 0.8162 - val_loss: 3.4924 - val_accuracy: 0.3379\n",
            "Epoch 117/200\n",
            "37/37 [==============================] - 2s 63ms/step - loss: 0.4998 - accuracy: 0.8265 - val_loss: 3.7705 - val_accuracy: 0.2828\n",
            "Epoch 118/200\n",
            "37/37 [==============================] - 2s 62ms/step - loss: 0.4977 - accuracy: 0.8299 - val_loss: 3.5849 - val_accuracy: 0.2621\n",
            "Epoch 119/200\n",
            "37/37 [==============================] - 2s 62ms/step - loss: 0.4675 - accuracy: 0.8282 - val_loss: 4.1515 - val_accuracy: 0.2276\n",
            "Epoch 120/200\n",
            "37/37 [==============================] - 2s 63ms/step - loss: 0.4958 - accuracy: 0.8265 - val_loss: 4.0260 - val_accuracy: 0.2621\n",
            "Epoch 121/200\n",
            "37/37 [==============================] - 2s 64ms/step - loss: 0.5508 - accuracy: 0.8153 - val_loss: 3.9434 - val_accuracy: 0.3034\n",
            "Epoch 122/200\n",
            "37/37 [==============================] - 2s 64ms/step - loss: 0.5068 - accuracy: 0.8256 - val_loss: 3.6668 - val_accuracy: 0.3034\n",
            "Epoch 123/200\n",
            "37/37 [==============================] - 2s 62ms/step - loss: 0.4784 - accuracy: 0.8359 - val_loss: 3.6496 - val_accuracy: 0.3103\n",
            "Epoch 124/200\n",
            "37/37 [==============================] - 2s 62ms/step - loss: 0.4797 - accuracy: 0.8376 - val_loss: 4.2174 - val_accuracy: 0.2897\n",
            "Epoch 125/200\n",
            "37/37 [==============================] - 2s 62ms/step - loss: 0.4404 - accuracy: 0.8497 - val_loss: 3.9143 - val_accuracy: 0.2759\n",
            "Epoch 126/200\n",
            "37/37 [==============================] - 2s 63ms/step - loss: 0.4874 - accuracy: 0.8454 - val_loss: 3.9059 - val_accuracy: 0.2897\n",
            "Epoch 127/200\n",
            "37/37 [==============================] - 2s 61ms/step - loss: 0.5129 - accuracy: 0.8479 - val_loss: 4.4780 - val_accuracy: 0.2690\n",
            "Epoch 128/200\n",
            "37/37 [==============================] - 2s 61ms/step - loss: 0.3817 - accuracy: 0.8668 - val_loss: 4.0832 - val_accuracy: 0.2552\n",
            "Epoch 129/200\n",
            "37/37 [==============================] - 2s 61ms/step - loss: 0.3907 - accuracy: 0.8651 - val_loss: 4.1656 - val_accuracy: 0.2966\n",
            "Epoch 130/200\n",
            "37/37 [==============================] - 2s 63ms/step - loss: 0.3921 - accuracy: 0.8548 - val_loss: 4.1828 - val_accuracy: 0.2759\n",
            "Epoch 131/200\n",
            "37/37 [==============================] - 2s 62ms/step - loss: 0.3659 - accuracy: 0.8823 - val_loss: 4.4212 - val_accuracy: 0.2690\n",
            "Epoch 132/200\n",
            "37/37 [==============================] - 2s 65ms/step - loss: 0.4052 - accuracy: 0.8720 - val_loss: 4.3289 - val_accuracy: 0.2828\n",
            "Epoch 133/200\n",
            "37/37 [==============================] - 2s 64ms/step - loss: 0.4444 - accuracy: 0.8668 - val_loss: 4.3790 - val_accuracy: 0.3034\n",
            "Epoch 134/200\n",
            "37/37 [==============================] - 2s 65ms/step - loss: 0.4863 - accuracy: 0.8376 - val_loss: 3.8247 - val_accuracy: 0.2759\n",
            "Epoch 135/200\n",
            "37/37 [==============================] - 2s 64ms/step - loss: 0.4027 - accuracy: 0.8557 - val_loss: 3.9002 - val_accuracy: 0.3172\n",
            "Epoch 136/200\n",
            "37/37 [==============================] - 2s 65ms/step - loss: 0.3080 - accuracy: 0.8909 - val_loss: 4.5679 - val_accuracy: 0.2552\n",
            "Epoch 137/200\n",
            "37/37 [==============================] - 2s 67ms/step - loss: 0.2627 - accuracy: 0.9192 - val_loss: 4.7680 - val_accuracy: 0.2828\n",
            "Epoch 138/200\n",
            "37/37 [==============================] - 2s 66ms/step - loss: 0.3240 - accuracy: 0.8875 - val_loss: 5.0731 - val_accuracy: 0.2966\n",
            "Epoch 139/200\n",
            "37/37 [==============================] - 2s 65ms/step - loss: 0.3387 - accuracy: 0.8900 - val_loss: 5.1567 - val_accuracy: 0.2414\n",
            "Epoch 140/200\n",
            "37/37 [==============================] - 2s 64ms/step - loss: 0.7006 - accuracy: 0.8179 - val_loss: 4.0981 - val_accuracy: 0.2483\n",
            "Epoch 141/200\n",
            "37/37 [==============================] - 2s 63ms/step - loss: 0.4751 - accuracy: 0.8454 - val_loss: 4.0109 - val_accuracy: 0.2690\n",
            "Epoch 142/200\n",
            "37/37 [==============================] - 2s 66ms/step - loss: 0.4038 - accuracy: 0.8729 - val_loss: 3.9872 - val_accuracy: 0.2897\n",
            "Epoch 143/200\n",
            "37/37 [==============================] - 2s 65ms/step - loss: 0.2749 - accuracy: 0.9141 - val_loss: 4.7193 - val_accuracy: 0.2621\n",
            "Epoch 144/200\n",
            "37/37 [==============================] - 2s 65ms/step - loss: 0.3211 - accuracy: 0.9012 - val_loss: 4.2923 - val_accuracy: 0.3172\n",
            "Epoch 145/200\n",
            "37/37 [==============================] - 2s 65ms/step - loss: 0.2833 - accuracy: 0.9107 - val_loss: 4.6923 - val_accuracy: 0.3172\n",
            "Epoch 146/200\n",
            "37/37 [==============================] - 2s 66ms/step - loss: 0.3495 - accuracy: 0.8960 - val_loss: 4.6928 - val_accuracy: 0.3379\n",
            "Epoch 147/200\n",
            "37/37 [==============================] - 2s 65ms/step - loss: 0.3031 - accuracy: 0.9098 - val_loss: 4.8882 - val_accuracy: 0.2759\n",
            "Epoch 148/200\n",
            "37/37 [==============================] - 2s 66ms/step - loss: 0.2789 - accuracy: 0.9064 - val_loss: 4.9389 - val_accuracy: 0.2828\n",
            "Epoch 149/200\n",
            "37/37 [==============================] - 2s 65ms/step - loss: 0.2368 - accuracy: 0.9261 - val_loss: 5.0465 - val_accuracy: 0.2759\n",
            "Epoch 150/200\n",
            "37/37 [==============================] - 2s 65ms/step - loss: 0.1896 - accuracy: 0.9407 - val_loss: 5.2238 - val_accuracy: 0.2897\n",
            "Epoch 151/200\n",
            "37/37 [==============================] - 2s 64ms/step - loss: 0.3077 - accuracy: 0.9115 - val_loss: 5.3857 - val_accuracy: 0.3103\n",
            "Epoch 152/200\n",
            "37/37 [==============================] - 2s 66ms/step - loss: 0.2996 - accuracy: 0.9115 - val_loss: 5.5040 - val_accuracy: 0.2759\n",
            "Epoch 153/200\n",
            "37/37 [==============================] - 2s 63ms/step - loss: 0.1922 - accuracy: 0.9416 - val_loss: 5.7448 - val_accuracy: 0.2621\n",
            "Epoch 154/200\n",
            "37/37 [==============================] - 2s 64ms/step - loss: 0.2490 - accuracy: 0.9167 - val_loss: 5.7892 - val_accuracy: 0.2966\n",
            "Epoch 155/200\n",
            "37/37 [==============================] - 2s 63ms/step - loss: 0.3079 - accuracy: 0.8952 - val_loss: 5.5197 - val_accuracy: 0.2621\n",
            "Epoch 156/200\n",
            "37/37 [==============================] - 2s 64ms/step - loss: 0.7724 - accuracy: 0.8076 - val_loss: 4.6963 - val_accuracy: 0.2897\n",
            "Epoch 157/200\n",
            "37/37 [==============================] - 2s 65ms/step - loss: 0.6810 - accuracy: 0.8093 - val_loss: 4.7683 - val_accuracy: 0.2621\n",
            "Epoch 158/200\n",
            "37/37 [==============================] - 2s 64ms/step - loss: 0.8447 - accuracy: 0.7328 - val_loss: 3.9799 - val_accuracy: 0.2414\n",
            "Epoch 159/200\n",
            "37/37 [==============================] - 2s 63ms/step - loss: 0.5232 - accuracy: 0.8273 - val_loss: 4.0413 - val_accuracy: 0.2828\n",
            "Epoch 160/200\n",
            "37/37 [==============================] - 2s 63ms/step - loss: 0.3414 - accuracy: 0.9003 - val_loss: 4.0080 - val_accuracy: 0.3034\n",
            "Epoch 161/200\n",
            "37/37 [==============================] - 2s 65ms/step - loss: 0.2759 - accuracy: 0.9124 - val_loss: 4.7994 - val_accuracy: 0.2483\n",
            "Epoch 162/200\n",
            "37/37 [==============================] - 3s 68ms/step - loss: 0.3044 - accuracy: 0.9167 - val_loss: 4.3918 - val_accuracy: 0.3034\n",
            "Epoch 163/200\n",
            "37/37 [==============================] - 2s 63ms/step - loss: 0.2136 - accuracy: 0.9433 - val_loss: 4.7606 - val_accuracy: 0.2828\n",
            "Epoch 164/200\n",
            "37/37 [==============================] - 2s 64ms/step - loss: 0.1839 - accuracy: 0.9476 - val_loss: 4.9397 - val_accuracy: 0.2897\n",
            "Epoch 165/200\n",
            "37/37 [==============================] - 2s 63ms/step - loss: 0.1636 - accuracy: 0.9570 - val_loss: 5.0089 - val_accuracy: 0.2897\n",
            "Epoch 166/200\n",
            "37/37 [==============================] - 2s 64ms/step - loss: 0.1454 - accuracy: 0.9553 - val_loss: 5.7129 - val_accuracy: 0.2966\n",
            "Epoch 167/200\n",
            "37/37 [==============================] - 2s 63ms/step - loss: 0.1192 - accuracy: 0.9665 - val_loss: 5.6410 - val_accuracy: 0.2966\n",
            "Epoch 168/200\n",
            "37/37 [==============================] - 2s 64ms/step - loss: 0.1330 - accuracy: 0.9622 - val_loss: 5.4908 - val_accuracy: 0.2897\n",
            "Epoch 169/200\n",
            "37/37 [==============================] - 2s 65ms/step - loss: 0.1349 - accuracy: 0.9527 - val_loss: 5.4938 - val_accuracy: 0.3103\n",
            "Epoch 170/200\n",
            "37/37 [==============================] - 2s 65ms/step - loss: 0.3497 - accuracy: 0.9098 - val_loss: 4.6206 - val_accuracy: 0.2966\n",
            "Epoch 171/200\n",
            "37/37 [==============================] - 2s 65ms/step - loss: 0.3811 - accuracy: 0.8900 - val_loss: 4.8182 - val_accuracy: 0.2690\n",
            "Epoch 172/200\n",
            "37/37 [==============================] - 2s 63ms/step - loss: 0.3211 - accuracy: 0.8995 - val_loss: 5.2820 - val_accuracy: 0.3103\n",
            "Epoch 173/200\n",
            "37/37 [==============================] - 2s 63ms/step - loss: 0.2324 - accuracy: 0.9261 - val_loss: 4.7325 - val_accuracy: 0.2759\n",
            "Epoch 174/200\n",
            "37/37 [==============================] - 2s 65ms/step - loss: 0.2000 - accuracy: 0.9424 - val_loss: 5.3930 - val_accuracy: 0.2828\n",
            "Epoch 175/200\n",
            "37/37 [==============================] - 2s 67ms/step - loss: 0.1964 - accuracy: 0.9442 - val_loss: 5.6562 - val_accuracy: 0.3034\n",
            "Epoch 176/200\n",
            "37/37 [==============================] - 2s 63ms/step - loss: 0.1991 - accuracy: 0.9373 - val_loss: 4.9022 - val_accuracy: 0.3379\n",
            "Epoch 177/200\n",
            "37/37 [==============================] - 2s 65ms/step - loss: 0.4805 - accuracy: 0.8780 - val_loss: 5.3202 - val_accuracy: 0.2552\n",
            "Epoch 178/200\n",
            "37/37 [==============================] - 2s 64ms/step - loss: 0.4827 - accuracy: 0.8582 - val_loss: 5.0353 - val_accuracy: 0.2552\n",
            "Epoch 179/200\n",
            "37/37 [==============================] - 2s 64ms/step - loss: 0.3051 - accuracy: 0.9064 - val_loss: 4.9327 - val_accuracy: 0.3034\n",
            "Epoch 180/200\n",
            "37/37 [==============================] - 2s 64ms/step - loss: 0.2032 - accuracy: 0.9442 - val_loss: 4.9856 - val_accuracy: 0.3241\n",
            "Epoch 181/200\n",
            "37/37 [==============================] - 2s 66ms/step - loss: 0.1864 - accuracy: 0.9493 - val_loss: 5.1717 - val_accuracy: 0.3034\n",
            "Epoch 182/200\n",
            "37/37 [==============================] - 2s 64ms/step - loss: 0.1825 - accuracy: 0.9476 - val_loss: 5.3186 - val_accuracy: 0.3034\n",
            "Epoch 183/200\n",
            "37/37 [==============================] - 2s 63ms/step - loss: 0.2098 - accuracy: 0.9450 - val_loss: 5.2899 - val_accuracy: 0.3241\n",
            "Epoch 184/200\n",
            "37/37 [==============================] - 2s 64ms/step - loss: 0.2759 - accuracy: 0.9304 - val_loss: 5.3462 - val_accuracy: 0.3241\n",
            "Epoch 185/200\n",
            "37/37 [==============================] - 2s 63ms/step - loss: 0.1561 - accuracy: 0.9545 - val_loss: 5.2601 - val_accuracy: 0.3103\n",
            "Epoch 186/200\n",
            "37/37 [==============================] - 2s 63ms/step - loss: 0.1444 - accuracy: 0.9553 - val_loss: 5.7727 - val_accuracy: 0.3034\n",
            "Epoch 187/200\n",
            "37/37 [==============================] - 2s 65ms/step - loss: 0.1111 - accuracy: 0.9639 - val_loss: 5.7261 - val_accuracy: 0.3103\n",
            "Epoch 188/200\n",
            "37/37 [==============================] - 2s 63ms/step - loss: 0.0986 - accuracy: 0.9682 - val_loss: 5.9862 - val_accuracy: 0.3103\n",
            "Epoch 189/200\n",
            "37/37 [==============================] - 2s 65ms/step - loss: 0.1087 - accuracy: 0.9691 - val_loss: 6.4746 - val_accuracy: 0.2897\n",
            "Epoch 190/200\n",
            "37/37 [==============================] - 2s 64ms/step - loss: 0.1000 - accuracy: 0.9699 - val_loss: 6.4104 - val_accuracy: 0.2690\n",
            "Epoch 191/200\n",
            "37/37 [==============================] - 2s 64ms/step - loss: 0.0948 - accuracy: 0.9768 - val_loss: 6.5392 - val_accuracy: 0.3034\n",
            "Epoch 192/200\n",
            "37/37 [==============================] - 2s 65ms/step - loss: 0.0771 - accuracy: 0.9742 - val_loss: 6.3615 - val_accuracy: 0.2966\n",
            "Epoch 193/200\n",
            "37/37 [==============================] - 2s 67ms/step - loss: 0.1335 - accuracy: 0.9570 - val_loss: 6.7270 - val_accuracy: 0.3241\n",
            "Epoch 194/200\n",
            "37/37 [==============================] - 2s 65ms/step - loss: 0.0946 - accuracy: 0.9725 - val_loss: 6.8839 - val_accuracy: 0.3172\n",
            "Epoch 195/200\n",
            "37/37 [==============================] - 2s 65ms/step - loss: 0.1109 - accuracy: 0.9785 - val_loss: 6.8121 - val_accuracy: 0.2966\n",
            "Epoch 196/200\n",
            "37/37 [==============================] - 3s 68ms/step - loss: 0.0891 - accuracy: 0.9734 - val_loss: 6.7670 - val_accuracy: 0.2966\n",
            "Epoch 197/200\n",
            "37/37 [==============================] - 2s 66ms/step - loss: 0.0795 - accuracy: 0.9759 - val_loss: 7.4069 - val_accuracy: 0.2759\n",
            "Epoch 198/200\n",
            "37/37 [==============================] - 2s 66ms/step - loss: 0.1714 - accuracy: 0.9519 - val_loss: 6.5528 - val_accuracy: 0.3034\n",
            "Epoch 199/200\n",
            "37/37 [==============================] - 2s 63ms/step - loss: 0.1598 - accuracy: 0.9493 - val_loss: 7.6503 - val_accuracy: 0.2690\n",
            "Epoch 200/200\n",
            "37/37 [==============================] - 2s 67ms/step - loss: 0.2901 - accuracy: 0.9253 - val_loss: 6.7767 - val_accuracy: 0.3379\n"
          ]
        }
      ]
    },
    {
      "cell_type": "code",
      "source": [
        "###Loss plots using LSTM model\n",
        "loss = history.history['loss']\n",
        "val_loss = history.history['val_loss']\n",
        "\n",
        "epochs= range(1, len(loss) + 1)\n",
        "plt.plot(epochs, loss, 'ro', label ='Training loss')\n",
        "plt.plot(epochs, val_loss, 'b', label ='Validation Loss')\n",
        "plt.title('Training and validation loss')\n",
        "plt.xlabel('Epochs')\n",
        "plt.ylabel('Loss')\n",
        "plt.legend()\n",
        "plt.show()"
      ],
      "metadata": {
        "id": "I7l1-4eOAKUC",
        "outputId": "b430e9ca-7138-4e5c-b8ab-d1671ccc4007",
        "colab": {
          "base_uri": "https://localhost:8080/",
          "height": 295
        }
      },
      "execution_count": 25,
      "outputs": [
        {
          "output_type": "display_data",
          "data": {
            "text/plain": [
              "<Figure size 432x288 with 1 Axes>"
            ],
            "image/png": "[encoded data removed]"
          },
          "metadata": {
            "needs_background": "light"
          }
        }
      ]
    }
  ]
}