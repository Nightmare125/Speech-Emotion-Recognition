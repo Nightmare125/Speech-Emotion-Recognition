{
  "nbformat": 4,
  "nbformat_minor": 0,
  "metadata": {
    "colab": {
      "provenance": [],
      "include_colab_link": true
    },
    "kernelspec": {
      "name": "python3",
      "display_name": "Python 3"
    },
    "language_info": {
      "name": "python"
    }
  },
  "cells": [
    {
      "cell_type": "markdown",
      "metadata": {
        "id": "view-in-github",
        "colab_type": "text"
      },
      "source": [
        "<a href=\"https://colab.research.google.com/github/Nightmare125/Speech-Emotion-Recognition/blob/main/Speech_emotion_recognition.ipynb\" target=\"_parent\"><img src=\"https://colab.research.google.com/assets/colab-badge.svg\" alt=\"Open In Colab\"/></a>"
      ]
    },
    {
      "cell_type": "code",
      "execution_count": 1,
      "metadata": {
        "colab": {
          "base_uri": "https://localhost:8080/"
        },
        "id": "eq0Km-vIdQTD",
        "outputId": "eb52d676-3f0b-4532-ad65-a7e30b16b4e9"
      },
      "outputs": [
        {
          "output_type": "stream",
          "name": "stdout",
          "text": [
            "Loaded Libraries\n"
          ]
        }
      ],
      "source": [
        "import numpy as np # linear algebra\n",
        "import pandas as pd # data processing, CSV file I/O(e.g. pd.rad_csv)\n",
        "import os #to use operating system dependent functionality\n",
        "import librosa # To extract speech features\n",
        "import wave # read and write WAV files\n",
        "import matplotlib.pyplot as plt # to generate the visualisation\n",
        "\n",
        "\n",
        "#MLP Classifier\n",
        "from sklearn.model_selection import train_test_split\n",
        "from sklearn.neural_network import MLPClassifier\n",
        "from sklearn.metrics import accuracy_score\n",
        "\n",
        "#LSTM Classifier\n",
        "import keras\n",
        "from tensorflow.keras.utils import to_categorical\n",
        "from keras.models import Sequential\n",
        "from keras.layers import *\n",
        "from tensorflow.keras.optimizers import RMSprop\n",
        "\n",
        "print(\"Loaded Libraries\")"
      ]
    },
    {
      "cell_type": "code",
      "source": [
        "from google.colab import drive\n",
        "drive.mount('/content/drive')"
      ],
      "metadata": {
        "colab": {
          "base_uri": "https://localhost:8080/"
        },
        "id": "926rK-Jlk3TL",
        "outputId": "e988e1e3-45f9-452c-a642-5098ddb19743"
      },
      "execution_count": 2,
      "outputs": [
        {
          "output_type": "stream",
          "name": "stdout",
          "text": [
            "Mounted at /content/drive\n"
          ]
        }
      ]
    },
    {
      "cell_type": "code",
      "source": [
        "def extract_mfcc(wav_file_name):\n",
        "# This function extracts mfcc features and obtains the mean of each dimension\n",
        "# Input : path_to_wav_file\n",
        "# Output : mfcc_features '''\n",
        " y, sr = librosa.load(wav_file_name)\n",
        " mfccs = np.mean(librosa.feature.mfcc(y=y, sr=sr, n_mfcc=40).T,axis=0)\n",
        " return mfccs"
      ],
      "metadata": {
        "id": "gRvki1rVmLf6"
      },
      "execution_count": 3,
      "outputs": []
    },
    {
      "cell_type": "markdown",
      "source": [
        "##Load Dataset\n"
      ],
      "metadata": {
        "id": "6NjPzo52pHOr"
      }
    },
    {
      "cell_type": "code",
      "source": [
        "speech_labels = [] #to save extracted labels/file\n",
        "speech_data =[] #to save extracted features\n",
        "for dirname, _, filenames in os.walk('/content/drive/MyDrive/ravdess'):\n",
        "  for filename in filenames:\n",
        "    #print(os.path.join(dirname, filename))\n",
        "    speech_labels.append(int(filename[7:8]) - 1)#the index 7 and 8 of the file name represent the emotion label\n",
        "    wav_file_name = os.path.join(dirname, filename)\n",
        "    speech_data.append(extract_mfcc(wav_file_name))\n",
        "print(\"Dataset Loaded\")\n"
      ],
      "metadata": {
        "id": "2VR6veSKp8Wf",
        "outputId": "27b2322e-086f-49fd-f1af-346216944df2",
        "colab": {
          "base_uri": "https://localhost:8080/"
        }
      },
      "execution_count": 4,
      "outputs": [
        {
          "output_type": "stream",
          "name": "stdout",
          "text": [
            "Dataset Loaded\n"
          ]
        }
      ]
    },
    {
      "cell_type": "code",
      "source": [
        "speech_data"
      ],
      "metadata": {
        "id": "UZH3o2M-8Ei9"
      },
      "execution_count": null,
      "outputs": []
    },
    {
      "cell_type": "code",
      "source": [
        "# convert label and data to arrays\n",
        "speech_data_array = np.asarray(speech_data)#convert input into an array\n",
        "speech_label_array = np.array(speech_labels)\n",
        "speech_label_array.shape #get tuple of array dimensions\n",
        "\n",
        "# make categorical labels\n",
        "labels_categorical = to_categorical(speech_label_array) #converts a class vector to binary matrix\n",
        "labels_categorical.shape"
      ],
      "metadata": {
        "id": "F1JKPZ038hrj",
        "outputId": "fa028ac9-6165-4cd6-e162-d046ea694300",
        "colab": {
          "base_uri": "https://localhost:8080/"
        }
      },
      "execution_count": 6,
      "outputs": [
        {
          "output_type": "execute_result",
          "data": {
            "text/plain": [
              "(1455, 8)"
            ]
          },
          "metadata": {},
          "execution_count": 6
        }
      ]
    },
    {
      "cell_type": "code",
      "source": [
        "speech_data_array.shape"
      ],
      "metadata": {
        "id": "K4Olu5vr-Vd1",
        "outputId": "8621290b-8ccf-4afc-8524-846417db0c9a",
        "colab": {
          "base_uri": "https://localhost:8080/"
        }
      },
      "execution_count": 7,
      "outputs": [
        {
          "output_type": "execute_result",
          "data": {
            "text/plain": [
              "(1455, 40)"
            ]
          },
          "metadata": {},
          "execution_count": 7
        }
      ]
    },
    {
      "cell_type": "code",
      "source": [
        "x_train,x_test,y_train,y_test = train_test_split(np.array(speech_data_array),labels_categorical, test_size=0.20, random_state=9)"
      ],
      "metadata": {
        "id": "nXaCh_Kd-uGl"
      },
      "execution_count": 8,
      "outputs": []
    },
    {
      "cell_type": "code",
      "source": [
        "from tensorflow.python import training\n",
        "#Split the training, validating and testing sets\n",
        "number_of_samples = speech_data_array.shape[0]\n",
        "training_samples = int(number_of_samples * 0.8)\n",
        "validation_samples = int(number_of_samples * 0.1)\n",
        "test_samples = int(number_of_samples *0.1)\n"
      ],
      "metadata": {
        "id": "TLqhwkE3_kYl"
      },
      "execution_count": 9,
      "outputs": []
    },
    {
      "cell_type": "code",
      "source": [
        "#Define the LSTM Model\n",
        "def create_model_LSTM():\n",
        "  model = Sequential()\n",
        "  model.add(LSTM(128, return_sequences=False, input_shape=(40,1)))\n",
        "  model.add(Dense(64))\n",
        "  model.add((Dropout(0.4)))\n",
        "  model.add(Activation(\"relu\"))\n",
        "  model.add(Dense(32))\n",
        "  model.add(Dropout(0.4))\n",
        "  model.add(Activation(\"relu\"))\n",
        "  model.add(Dense(8))\n",
        "  model.add(Activation(\"softmax\"))\n",
        "  \n",
        "  #configures the model for training\n",
        "  model.compile(loss = 'categorical_crossentropy', optimizer = 'Adam', metrics=['accuracy'])\n",
        "  return model\n",
        "\n",
        " \n",
        " "
      ],
      "metadata": {
        "id": "i3SaRs7J4Rri"
      },
      "execution_count": 10,
      "outputs": []
    },
    {
      "cell_type": "code",
      "source": [
        "w = np.expand_dims(speech_data_array[:training_samples], -1)"
      ],
      "metadata": {
        "id": "C_vPx7XB_j9R"
      },
      "execution_count": 11,
      "outputs": []
    },
    {
      "cell_type": "code",
      "source": [
        "w.shape"
      ],
      "metadata": {
        "id": "v_N7gge-AApV",
        "outputId": "49b1d4b3-1251-42b5-f204-9cfc73c448d3",
        "colab": {
          "base_uri": "https://localhost:8080/"
        }
      },
      "execution_count": 12,
      "outputs": [
        {
          "output_type": "execute_result",
          "data": {
            "text/plain": [
              "(1164, 40, 1)"
            ]
          },
          "metadata": {},
          "execution_count": 12
        }
      ]
    },
    {
      "cell_type": "code",
      "source": [
        "#train using LSTM model\n",
        "model_A = create_model_LSTM()\n",
        "history = model_A.fit(np.expand_dims(speech_data_array[:training_samples],-1), labels_categorical[:training_samples], validation_data=(np.expand_dims(speech_data_array[training_samples:training_samples+validation_samples],-1), labels_categorical[training_samples:training_samples+validation_samples]), epochs=130, shuffle=True)"
      ],
      "metadata": {
        "id": "ehwx0JdYCwBq",
        "outputId": "b016ed0b-d60a-4c43-f529-2a7ae7b87a8e",
        "colab": {
          "base_uri": "https://localhost:8080/"
        }
      },
      "execution_count": 14,
      "outputs": [
        {
          "output_type": "stream",
          "name": "stdout",
          "text": [
            "Epoch 1/130\n",
            "37/37 [==============================] - 5s 72ms/step - loss: 2.0804 - accuracy: 0.1564 - val_loss: 2.0655 - val_accuracy: 0.1379\n",
            "Epoch 2/130\n",
            "37/37 [==============================] - 2s 56ms/step - loss: 2.0575 - accuracy: 0.1555 - val_loss: 2.0459 - val_accuracy: 0.1724\n",
            "Epoch 3/130\n",
            "37/37 [==============================] - 2s 55ms/step - loss: 2.0434 - accuracy: 0.1787 - val_loss: 2.0296 - val_accuracy: 0.1379\n",
            "Epoch 4/130\n",
            "37/37 [==============================] - 2s 54ms/step - loss: 2.0363 - accuracy: 0.1830 - val_loss: 2.0093 - val_accuracy: 0.1448\n",
            "Epoch 5/130\n",
            "37/37 [==============================] - 2s 55ms/step - loss: 2.0026 - accuracy: 0.2045 - val_loss: 1.9992 - val_accuracy: 0.2276\n",
            "Epoch 6/130\n",
            "37/37 [==============================] - 2s 55ms/step - loss: 1.9710 - accuracy: 0.2165 - val_loss: 1.9462 - val_accuracy: 0.2552\n",
            "Epoch 7/130\n",
            "37/37 [==============================] - 2s 54ms/step - loss: 1.9677 - accuracy: 0.2096 - val_loss: 1.9408 - val_accuracy: 0.2414\n",
            "Epoch 8/130\n",
            "37/37 [==============================] - 2s 54ms/step - loss: 1.9431 - accuracy: 0.2577 - val_loss: 1.9283 - val_accuracy: 0.2276\n",
            "Epoch 9/130\n",
            "37/37 [==============================] - 2s 56ms/step - loss: 1.9128 - accuracy: 0.2328 - val_loss: 1.8873 - val_accuracy: 0.2897\n",
            "Epoch 10/130\n",
            "37/37 [==============================] - 2s 55ms/step - loss: 1.8994 - accuracy: 0.2586 - val_loss: 1.9304 - val_accuracy: 0.2483\n",
            "Epoch 11/130\n",
            "37/37 [==============================] - 2s 55ms/step - loss: 1.9059 - accuracy: 0.2698 - val_loss: 1.9152 - val_accuracy: 0.2759\n",
            "Epoch 12/130\n",
            "37/37 [==============================] - 2s 53ms/step - loss: 1.8876 - accuracy: 0.2723 - val_loss: 1.8853 - val_accuracy: 0.2966\n",
            "Epoch 13/130\n",
            "37/37 [==============================] - 2s 54ms/step - loss: 1.8659 - accuracy: 0.2766 - val_loss: 1.9167 - val_accuracy: 0.2828\n",
            "Epoch 14/130\n",
            "37/37 [==============================] - 3s 84ms/step - loss: 1.8648 - accuracy: 0.2792 - val_loss: 1.9153 - val_accuracy: 0.2621\n",
            "Epoch 15/130\n",
            "37/37 [==============================] - 3s 67ms/step - loss: 1.8338 - accuracy: 0.2878 - val_loss: 1.8783 - val_accuracy: 0.3310\n",
            "Epoch 16/130\n",
            "37/37 [==============================] - 2s 57ms/step - loss: 1.8073 - accuracy: 0.3144 - val_loss: 1.8272 - val_accuracy: 0.3379\n",
            "Epoch 17/130\n",
            "37/37 [==============================] - 2s 56ms/step - loss: 1.7991 - accuracy: 0.3050 - val_loss: 1.8410 - val_accuracy: 0.3241\n",
            "Epoch 18/130\n",
            "37/37 [==============================] - 2s 56ms/step - loss: 1.7485 - accuracy: 0.3265 - val_loss: 1.8684 - val_accuracy: 0.2966\n",
            "Epoch 19/130\n",
            "37/37 [==============================] - 2s 55ms/step - loss: 1.7874 - accuracy: 0.3136 - val_loss: 1.8824 - val_accuracy: 0.2966\n",
            "Epoch 20/130\n",
            "37/37 [==============================] - 3s 71ms/step - loss: 1.8122 - accuracy: 0.2887 - val_loss: 1.8988 - val_accuracy: 0.2621\n",
            "Epoch 21/130\n",
            "37/37 [==============================] - 2s 55ms/step - loss: 1.7579 - accuracy: 0.3170 - val_loss: 1.8835 - val_accuracy: 0.2897\n",
            "Epoch 22/130\n",
            "37/37 [==============================] - 2s 55ms/step - loss: 1.7653 - accuracy: 0.3222 - val_loss: 1.8685 - val_accuracy: 0.3034\n",
            "Epoch 23/130\n",
            "37/37 [==============================] - 2s 55ms/step - loss: 1.7355 - accuracy: 0.3273 - val_loss: 1.8940 - val_accuracy: 0.2138\n",
            "Epoch 24/130\n",
            "37/37 [==============================] - 2s 55ms/step - loss: 1.7154 - accuracy: 0.3333 - val_loss: 1.8043 - val_accuracy: 0.3034\n",
            "Epoch 25/130\n",
            "37/37 [==============================] - 2s 54ms/step - loss: 1.7427 - accuracy: 0.3325 - val_loss: 1.8958 - val_accuracy: 0.2897\n",
            "Epoch 26/130\n",
            "37/37 [==============================] - 2s 55ms/step - loss: 1.7162 - accuracy: 0.3522 - val_loss: 1.9074 - val_accuracy: 0.2759\n",
            "Epoch 27/130\n",
            "37/37 [==============================] - 2s 54ms/step - loss: 1.7265 - accuracy: 0.3187 - val_loss: 1.9121 - val_accuracy: 0.2690\n",
            "Epoch 28/130\n",
            "37/37 [==============================] - 2s 54ms/step - loss: 1.7036 - accuracy: 0.3462 - val_loss: 1.8743 - val_accuracy: 0.3034\n",
            "Epoch 29/130\n",
            "37/37 [==============================] - 2s 55ms/step - loss: 1.6869 - accuracy: 0.3488 - val_loss: 1.9045 - val_accuracy: 0.2759\n",
            "Epoch 30/130\n",
            "37/37 [==============================] - 2s 56ms/step - loss: 1.6849 - accuracy: 0.3428 - val_loss: 1.9486 - val_accuracy: 0.2621\n",
            "Epoch 31/130\n",
            "37/37 [==============================] - 2s 56ms/step - loss: 1.6772 - accuracy: 0.3514 - val_loss: 1.8694 - val_accuracy: 0.2414\n",
            "Epoch 32/130\n",
            "37/37 [==============================] - 2s 56ms/step - loss: 1.6839 - accuracy: 0.3660 - val_loss: 1.8895 - val_accuracy: 0.2552\n",
            "Epoch 33/130\n",
            "37/37 [==============================] - 2s 56ms/step - loss: 1.6390 - accuracy: 0.3711 - val_loss: 1.9234 - val_accuracy: 0.2414\n",
            "Epoch 34/130\n",
            "37/37 [==============================] - 2s 56ms/step - loss: 1.6508 - accuracy: 0.3651 - val_loss: 1.9809 - val_accuracy: 0.2552\n",
            "Epoch 35/130\n",
            "37/37 [==============================] - 2s 55ms/step - loss: 1.6550 - accuracy: 0.3445 - val_loss: 1.9841 - val_accuracy: 0.2483\n",
            "Epoch 36/130\n",
            "37/37 [==============================] - 2s 55ms/step - loss: 1.6583 - accuracy: 0.3591 - val_loss: 1.9067 - val_accuracy: 0.2828\n",
            "Epoch 37/130\n",
            "37/37 [==============================] - 2s 56ms/step - loss: 1.6236 - accuracy: 0.3763 - val_loss: 1.9713 - val_accuracy: 0.2828\n",
            "Epoch 38/130\n",
            "37/37 [==============================] - 2s 56ms/step - loss: 1.5935 - accuracy: 0.3703 - val_loss: 1.9579 - val_accuracy: 0.3034\n",
            "Epoch 39/130\n",
            "37/37 [==============================] - 2s 56ms/step - loss: 1.5609 - accuracy: 0.4021 - val_loss: 1.9388 - val_accuracy: 0.2897\n",
            "Epoch 40/130\n",
            "37/37 [==============================] - 2s 56ms/step - loss: 1.5945 - accuracy: 0.3995 - val_loss: 2.0938 - val_accuracy: 0.2690\n",
            "Epoch 41/130\n",
            "37/37 [==============================] - 2s 56ms/step - loss: 1.5901 - accuracy: 0.3918 - val_loss: 2.0384 - val_accuracy: 0.2897\n",
            "Epoch 42/130\n",
            "37/37 [==============================] - 2s 56ms/step - loss: 1.6247 - accuracy: 0.3729 - val_loss: 1.8805 - val_accuracy: 0.2828\n",
            "Epoch 43/130\n",
            "37/37 [==============================] - 2s 55ms/step - loss: 1.5571 - accuracy: 0.4167 - val_loss: 1.9157 - val_accuracy: 0.2966\n",
            "Epoch 44/130\n",
            "37/37 [==============================] - 2s 56ms/step - loss: 1.5563 - accuracy: 0.3943 - val_loss: 1.8951 - val_accuracy: 0.3241\n",
            "Epoch 45/130\n",
            "37/37 [==============================] - 2s 56ms/step - loss: 1.5106 - accuracy: 0.4158 - val_loss: 2.0342 - val_accuracy: 0.2759\n",
            "Epoch 46/130\n",
            "37/37 [==============================] - 2s 56ms/step - loss: 1.5376 - accuracy: 0.4081 - val_loss: 1.9997 - val_accuracy: 0.3241\n",
            "Epoch 47/130\n",
            "37/37 [==============================] - 2s 57ms/step - loss: 1.5254 - accuracy: 0.4227 - val_loss: 2.0836 - val_accuracy: 0.2966\n",
            "Epoch 48/130\n",
            "37/37 [==============================] - 3s 87ms/step - loss: 1.4695 - accuracy: 0.4253 - val_loss: 1.9363 - val_accuracy: 0.2828\n",
            "Epoch 49/130\n",
            "37/37 [==============================] - 2s 55ms/step - loss: 1.4589 - accuracy: 0.4321 - val_loss: 2.1789 - val_accuracy: 0.3172\n",
            "Epoch 50/130\n",
            "37/37 [==============================] - 2s 55ms/step - loss: 1.4710 - accuracy: 0.4253 - val_loss: 2.0518 - val_accuracy: 0.2828\n",
            "Epoch 51/130\n",
            "37/37 [==============================] - 2s 54ms/step - loss: 1.4468 - accuracy: 0.4347 - val_loss: 1.9951 - val_accuracy: 0.3103\n",
            "Epoch 52/130\n",
            "37/37 [==============================] - 2s 55ms/step - loss: 1.4035 - accuracy: 0.4553 - val_loss: 2.1438 - val_accuracy: 0.2966\n",
            "Epoch 53/130\n",
            "37/37 [==============================] - 2s 55ms/step - loss: 1.4183 - accuracy: 0.4639 - val_loss: 2.1443 - val_accuracy: 0.2897\n",
            "Epoch 54/130\n",
            "37/37 [==============================] - 2s 54ms/step - loss: 1.4291 - accuracy: 0.4545 - val_loss: 2.0871 - val_accuracy: 0.2690\n",
            "Epoch 55/130\n",
            "37/37 [==============================] - 2s 56ms/step - loss: 1.4255 - accuracy: 0.4510 - val_loss: 2.2057 - val_accuracy: 0.2690\n",
            "Epoch 56/130\n",
            "37/37 [==============================] - 2s 56ms/step - loss: 1.4490 - accuracy: 0.4459 - val_loss: 2.0064 - val_accuracy: 0.3448\n",
            "Epoch 57/130\n",
            "37/37 [==============================] - 2s 54ms/step - loss: 1.3991 - accuracy: 0.4639 - val_loss: 2.1681 - val_accuracy: 0.3172\n",
            "Epoch 58/130\n",
            "37/37 [==============================] - 2s 55ms/step - loss: 1.4061 - accuracy: 0.4656 - val_loss: 2.1083 - val_accuracy: 0.3172\n",
            "Epoch 59/130\n",
            "37/37 [==============================] - 2s 55ms/step - loss: 1.3293 - accuracy: 0.4897 - val_loss: 2.2024 - val_accuracy: 0.2897\n",
            "Epoch 60/130\n",
            "37/37 [==============================] - 2s 55ms/step - loss: 1.4123 - accuracy: 0.4562 - val_loss: 2.2099 - val_accuracy: 0.2759\n",
            "Epoch 61/130\n",
            "37/37 [==============================] - 2s 55ms/step - loss: 1.3543 - accuracy: 0.4811 - val_loss: 2.2254 - val_accuracy: 0.2345\n",
            "Epoch 62/130\n",
            "37/37 [==============================] - 2s 55ms/step - loss: 1.2934 - accuracy: 0.4957 - val_loss: 2.0928 - val_accuracy: 0.2759\n",
            "Epoch 63/130\n",
            "37/37 [==============================] - 2s 54ms/step - loss: 1.2867 - accuracy: 0.5069 - val_loss: 2.1065 - val_accuracy: 0.2690\n",
            "Epoch 64/130\n",
            "37/37 [==============================] - 2s 55ms/step - loss: 1.2968 - accuracy: 0.5069 - val_loss: 2.2808 - val_accuracy: 0.3103\n",
            "Epoch 65/130\n",
            "37/37 [==============================] - 2s 55ms/step - loss: 1.2630 - accuracy: 0.5249 - val_loss: 2.1668 - val_accuracy: 0.2828\n",
            "Epoch 66/130\n",
            "37/37 [==============================] - 2s 55ms/step - loss: 1.2433 - accuracy: 0.5206 - val_loss: 2.2966 - val_accuracy: 0.3103\n",
            "Epoch 67/130\n",
            "37/37 [==============================] - 2s 56ms/step - loss: 1.2434 - accuracy: 0.5326 - val_loss: 2.3380 - val_accuracy: 0.3103\n",
            "Epoch 68/130\n",
            "37/37 [==============================] - 2s 56ms/step - loss: 1.1767 - accuracy: 0.5576 - val_loss: 2.3229 - val_accuracy: 0.3172\n",
            "Epoch 69/130\n",
            "37/37 [==============================] - 2s 54ms/step - loss: 1.1456 - accuracy: 0.5653 - val_loss: 2.5960 - val_accuracy: 0.2897\n",
            "Epoch 70/130\n",
            "37/37 [==============================] - 2s 56ms/step - loss: 1.2155 - accuracy: 0.5318 - val_loss: 2.2757 - val_accuracy: 0.3379\n",
            "Epoch 71/130\n",
            "37/37 [==============================] - 2s 56ms/step - loss: 1.1254 - accuracy: 0.5644 - val_loss: 2.4673 - val_accuracy: 0.3034\n",
            "Epoch 72/130\n",
            "37/37 [==============================] - 2s 54ms/step - loss: 1.1467 - accuracy: 0.5473 - val_loss: 2.3896 - val_accuracy: 0.2759\n",
            "Epoch 73/130\n",
            "37/37 [==============================] - 2s 56ms/step - loss: 1.1430 - accuracy: 0.5601 - val_loss: 2.2028 - val_accuracy: 0.3379\n",
            "Epoch 74/130\n",
            "37/37 [==============================] - 2s 57ms/step - loss: 1.1550 - accuracy: 0.5481 - val_loss: 2.4253 - val_accuracy: 0.3103\n",
            "Epoch 75/130\n",
            "37/37 [==============================] - 2s 56ms/step - loss: 1.1450 - accuracy: 0.5473 - val_loss: 2.3491 - val_accuracy: 0.2828\n",
            "Epoch 76/130\n",
            "37/37 [==============================] - 2s 56ms/step - loss: 1.0421 - accuracy: 0.6168 - val_loss: 2.4841 - val_accuracy: 0.3172\n",
            "Epoch 77/130\n",
            "37/37 [==============================] - 2s 56ms/step - loss: 1.0203 - accuracy: 0.6091 - val_loss: 2.5294 - val_accuracy: 0.2966\n",
            "Epoch 78/130\n",
            "37/37 [==============================] - 2s 57ms/step - loss: 1.0654 - accuracy: 0.5971 - val_loss: 2.6066 - val_accuracy: 0.2138\n",
            "Epoch 79/130\n",
            "37/37 [==============================] - 2s 56ms/step - loss: 1.0740 - accuracy: 0.5902 - val_loss: 2.5330 - val_accuracy: 0.2759\n",
            "Epoch 80/130\n",
            "37/37 [==============================] - 2s 56ms/step - loss: 1.0814 - accuracy: 0.6005 - val_loss: 2.4654 - val_accuracy: 0.2483\n",
            "Epoch 81/130\n",
            "37/37 [==============================] - 2s 57ms/step - loss: 1.0339 - accuracy: 0.5962 - val_loss: 2.5202 - val_accuracy: 0.3172\n",
            "Epoch 82/130\n",
            "37/37 [==============================] - 2s 56ms/step - loss: 0.9929 - accuracy: 0.6108 - val_loss: 2.6643 - val_accuracy: 0.3034\n",
            "Epoch 83/130\n",
            "37/37 [==============================] - 2s 56ms/step - loss: 0.9191 - accuracy: 0.6460 - val_loss: 2.6248 - val_accuracy: 0.2690\n",
            "Epoch 84/130\n",
            "37/37 [==============================] - 3s 81ms/step - loss: 0.9455 - accuracy: 0.6418 - val_loss: 2.7112 - val_accuracy: 0.2897\n",
            "Epoch 85/130\n",
            "37/37 [==============================] - 3s 85ms/step - loss: 0.9529 - accuracy: 0.6383 - val_loss: 2.7272 - val_accuracy: 0.3103\n",
            "Epoch 86/130\n",
            "37/37 [==============================] - 2s 55ms/step - loss: 0.9016 - accuracy: 0.6564 - val_loss: 2.8792 - val_accuracy: 0.3034\n",
            "Epoch 87/130\n",
            "37/37 [==============================] - 2s 55ms/step - loss: 0.9399 - accuracy: 0.6486 - val_loss: 2.6106 - val_accuracy: 0.2759\n",
            "Epoch 88/130\n",
            "37/37 [==============================] - 2s 57ms/step - loss: 0.9031 - accuracy: 0.6649 - val_loss: 2.8736 - val_accuracy: 0.2690\n",
            "Epoch 89/130\n",
            "37/37 [==============================] - 2s 56ms/step - loss: 0.9172 - accuracy: 0.6607 - val_loss: 2.7908 - val_accuracy: 0.2690\n",
            "Epoch 90/130\n",
            "37/37 [==============================] - 2s 56ms/step - loss: 0.8861 - accuracy: 0.6667 - val_loss: 2.7830 - val_accuracy: 0.2483\n",
            "Epoch 91/130\n",
            "37/37 [==============================] - 2s 56ms/step - loss: 1.0267 - accuracy: 0.6211 - val_loss: 2.9994 - val_accuracy: 0.2759\n",
            "Epoch 92/130\n",
            "37/37 [==============================] - 2s 55ms/step - loss: 0.9045 - accuracy: 0.6607 - val_loss: 2.9416 - val_accuracy: 0.3103\n",
            "Epoch 93/130\n",
            "37/37 [==============================] - 2s 56ms/step - loss: 0.7960 - accuracy: 0.6993 - val_loss: 2.8026 - val_accuracy: 0.2759\n",
            "Epoch 94/130\n",
            "37/37 [==============================] - 2s 57ms/step - loss: 0.8139 - accuracy: 0.6924 - val_loss: 2.6735 - val_accuracy: 0.3379\n",
            "Epoch 95/130\n",
            "37/37 [==============================] - 2s 56ms/step - loss: 0.7566 - accuracy: 0.7105 - val_loss: 2.9911 - val_accuracy: 0.2897\n",
            "Epoch 96/130\n",
            "37/37 [==============================] - 2s 56ms/step - loss: 0.7491 - accuracy: 0.7174 - val_loss: 3.0866 - val_accuracy: 0.2828\n",
            "Epoch 97/130\n",
            "37/37 [==============================] - 2s 55ms/step - loss: 0.8101 - accuracy: 0.7053 - val_loss: 2.8791 - val_accuracy: 0.2414\n",
            "Epoch 98/130\n",
            "37/37 [==============================] - 2s 57ms/step - loss: 0.7312 - accuracy: 0.7337 - val_loss: 3.1286 - val_accuracy: 0.2621\n",
            "Epoch 99/130\n",
            "37/37 [==============================] - 2s 57ms/step - loss: 0.7811 - accuracy: 0.6907 - val_loss: 3.2882 - val_accuracy: 0.2207\n",
            "Epoch 100/130\n",
            "37/37 [==============================] - 2s 56ms/step - loss: 0.8754 - accuracy: 0.6778 - val_loss: 2.8411 - val_accuracy: 0.2621\n",
            "Epoch 101/130\n",
            "37/37 [==============================] - 2s 57ms/step - loss: 1.3889 - accuracy: 0.5790 - val_loss: 2.4586 - val_accuracy: 0.2690\n",
            "Epoch 102/130\n",
            "37/37 [==============================] - 2s 57ms/step - loss: 0.9815 - accuracy: 0.6332 - val_loss: 2.6845 - val_accuracy: 0.2483\n",
            "Epoch 103/130\n",
            "37/37 [==============================] - 2s 58ms/step - loss: 0.7830 - accuracy: 0.7242 - val_loss: 3.0200 - val_accuracy: 0.2414\n",
            "Epoch 104/130\n",
            "37/37 [==============================] - 2s 56ms/step - loss: 0.7114 - accuracy: 0.7268 - val_loss: 2.7718 - val_accuracy: 0.2690\n",
            "Epoch 105/130\n",
            "37/37 [==============================] - 2s 59ms/step - loss: 0.6820 - accuracy: 0.7354 - val_loss: 3.0544 - val_accuracy: 0.2483\n",
            "Epoch 106/130\n",
            "37/37 [==============================] - 2s 57ms/step - loss: 0.7131 - accuracy: 0.7405 - val_loss: 2.9875 - val_accuracy: 0.2897\n",
            "Epoch 107/130\n",
            "37/37 [==============================] - 2s 56ms/step - loss: 0.6128 - accuracy: 0.7706 - val_loss: 3.1626 - val_accuracy: 0.2966\n",
            "Epoch 108/130\n",
            "37/37 [==============================] - 2s 57ms/step - loss: 0.5862 - accuracy: 0.7801 - val_loss: 3.3952 - val_accuracy: 0.2690\n",
            "Epoch 109/130\n",
            "37/37 [==============================] - 2s 57ms/step - loss: 0.6545 - accuracy: 0.7629 - val_loss: 3.3856 - val_accuracy: 0.2828\n",
            "Epoch 110/130\n",
            "37/37 [==============================] - 2s 56ms/step - loss: 0.5972 - accuracy: 0.7826 - val_loss: 3.6934 - val_accuracy: 0.2621\n",
            "Epoch 111/130\n",
            "37/37 [==============================] - 2s 56ms/step - loss: 0.5740 - accuracy: 0.7835 - val_loss: 3.6853 - val_accuracy: 0.2483\n",
            "Epoch 112/130\n",
            "37/37 [==============================] - 2s 57ms/step - loss: 0.6128 - accuracy: 0.7801 - val_loss: 3.6383 - val_accuracy: 0.2552\n",
            "Epoch 113/130\n",
            "37/37 [==============================] - 2s 57ms/step - loss: 0.6233 - accuracy: 0.7938 - val_loss: 3.3737 - val_accuracy: 0.2483\n",
            "Epoch 114/130\n",
            "37/37 [==============================] - 2s 55ms/step - loss: 0.5576 - accuracy: 0.7998 - val_loss: 3.9154 - val_accuracy: 0.2621\n",
            "Epoch 115/130\n",
            "37/37 [==============================] - 2s 56ms/step - loss: 0.5406 - accuracy: 0.8110 - val_loss: 3.7871 - val_accuracy: 0.2276\n",
            "Epoch 116/130\n",
            "37/37 [==============================] - 2s 58ms/step - loss: 0.5461 - accuracy: 0.7955 - val_loss: 3.8247 - val_accuracy: 0.2552\n",
            "Epoch 117/130\n",
            "37/37 [==============================] - 2s 57ms/step - loss: 0.4568 - accuracy: 0.8256 - val_loss: 4.3802 - val_accuracy: 0.2759\n",
            "Epoch 118/130\n",
            "37/37 [==============================] - 2s 57ms/step - loss: 0.4423 - accuracy: 0.8385 - val_loss: 4.3507 - val_accuracy: 0.2690\n",
            "Epoch 119/130\n",
            "37/37 [==============================] - 2s 57ms/step - loss: 0.4995 - accuracy: 0.8213 - val_loss: 4.0736 - val_accuracy: 0.2621\n",
            "Epoch 120/130\n",
            "37/37 [==============================] - 2s 55ms/step - loss: 0.4822 - accuracy: 0.8204 - val_loss: 4.2371 - val_accuracy: 0.2759\n",
            "Epoch 121/130\n",
            "37/37 [==============================] - 2s 56ms/step - loss: 0.4992 - accuracy: 0.8256 - val_loss: 4.2315 - val_accuracy: 0.2483\n",
            "Epoch 122/130\n",
            "37/37 [==============================] - 2s 56ms/step - loss: 0.6119 - accuracy: 0.8024 - val_loss: 4.1940 - val_accuracy: 0.2069\n",
            "Epoch 123/130\n",
            "37/37 [==============================] - 2s 57ms/step - loss: 0.5930 - accuracy: 0.7895 - val_loss: 4.1418 - val_accuracy: 0.2483\n",
            "Epoch 124/130\n",
            "37/37 [==============================] - 2s 57ms/step - loss: 0.4421 - accuracy: 0.8505 - val_loss: 4.3263 - val_accuracy: 0.2759\n",
            "Epoch 125/130\n",
            "37/37 [==============================] - 2s 57ms/step - loss: 0.4971 - accuracy: 0.8445 - val_loss: 4.5232 - val_accuracy: 0.2138\n",
            "Epoch 126/130\n",
            "37/37 [==============================] - 2s 57ms/step - loss: 0.4507 - accuracy: 0.8368 - val_loss: 4.2447 - val_accuracy: 0.2414\n",
            "Epoch 127/130\n",
            "37/37 [==============================] - 2s 57ms/step - loss: 0.4118 - accuracy: 0.8625 - val_loss: 4.4869 - val_accuracy: 0.2345\n",
            "Epoch 128/130\n",
            "37/37 [==============================] - 2s 58ms/step - loss: 0.3507 - accuracy: 0.8729 - val_loss: 4.9531 - val_accuracy: 0.2207\n",
            "Epoch 129/130\n",
            "37/37 [==============================] - 2s 57ms/step - loss: 0.4063 - accuracy: 0.8625 - val_loss: 4.8413 - val_accuracy: 0.2828\n",
            "Epoch 130/130\n",
            "37/37 [==============================] - 2s 57ms/step - loss: 0.3789 - accuracy: 0.8686 - val_loss: 4.7140 - val_accuracy: 0.2207\n"
          ]
        }
      ]
    },
    {
      "cell_type": "code",
      "source": [
        "###Loss plots using LSTM model\n",
        "loss = history.history['loss']\n",
        "val_loss = history.history['val_loss']\n",
        "\n",
        "epochs= range(1, len(loss) + 1)\n",
        "plt.plot(epochs, loss, 'ro', label ='Training loss')\n",
        "plt.plot(epochs, val_loss, 'b', label ='Validation Loss')\n",
        "plt.title('Training and validation loss')\n",
        "plt.xlabel('Epochs')\n",
        "plt.ylabel('Loss')\n",
        "plt.legend()\n",
        "plt.show()"
      ],
      "metadata": {
        "id": "I7l1-4eOAKUC"
      },
      "execution_count": null,
      "outputs": []
    },
    {
      "cell_type": "code",
      "source": [
        "###Accuracy plots using LSTM model\n",
        "acc = history.history['accuracy']\n",
        "val_acc = history.history['val_accuracy']\n",
        "\n",
        "plt.plot(epochs, acc, 'ro', label ='Training acc')\n",
        "plt.plot(epochs, val_acc, 'b', label ='Validation acc')\n",
        "plt.title('Training and validation accuracy')\n",
        "plt.xlabel('Epochs')\n",
        "plt.ylabel('Loss')\n",
        "plt.legend()\n",
        "plt.show()"
      ],
      "metadata": {
        "id": "k3Pkco3qJhwx"
      },
      "execution_count": null,
      "outputs": []
    },
    {
      "cell_type": "code",
      "source": [
        "###evaluate using model A\n",
        "model_A.evaluate(np.expand_dims(speech_data_array[training_samples + validation_samples:],-1), labels_categorical[training_samples+validation_samples:])"
      ],
      "metadata": {
        "id": "dhmrxKA0LCZE",
        "outputId": "ffbc6846-e14b-47ab-a5c2-8c53b861dc3e",
        "colab": {
          "base_uri": "https://localhost:8080/"
        }
      },
      "execution_count": 18,
      "outputs": [
        {
          "output_type": "stream",
          "name": "stdout",
          "text": [
            "5/5 [==============================] - 0s 23ms/step - loss: 5.6924 - accuracy: 0.2534\n"
          ]
        },
        {
          "output_type": "execute_result",
          "data": {
            "text/plain": [
              "[5.692366123199463, 0.25342464447021484]"
            ]
          },
          "metadata": {},
          "execution_count": 18
        }
      ]
    },
    {
      "cell_type": "code",
      "source": [
        "emotions={1 : 'neutral', 2 : 'calm', 3 : 'happy', 4 : 'sad', 5 : 'angry', 6 : 'fearful', 7 : 'disgust', 8 : 'surprised'}\n",
        "def predict(wav_filepath):\n",
        "  test_point=extract_mfcc(wav_filepath)\n",
        "  test_point=np.reshape(test_point,newshape=(1,40,1))\n",
        "  predictions=model_A.predict(test_point)\n",
        "  print(emotions[np.argmax(predictions[0])+1])"
      ],
      "metadata": {
        "id": "n6ocbJ1nLrbB"
      },
      "execution_count": 24,
      "outputs": []
    },
    {
      "cell_type": "code",
      "source": [
        "predict('/content/drive/MyDrive/ravdess/Actor_04/03-01-01-01-01-01-04.wav')"
      ],
      "metadata": {
        "id": "21zSgRJvPH2n",
        "outputId": "f61a8c13-5cd3-4642-96f0-353d66f33899",
        "colab": {
          "base_uri": "https://localhost:8080/"
        }
      },
      "execution_count": 25,
      "outputs": [
        {
          "output_type": "stream",
          "name": "stdout",
          "text": [
            "1/1 [==============================] - 0s 25ms/step\n",
            "neutral\n"
          ]
        }
      ]
    },
    {
      "cell_type": "code",
      "source": [
        "predict('/content/drive/MyDrive/ravdess/Actor_04/03-01-03-01-02-01-04.wav')"
      ],
      "metadata": {
        "id": "Sv5rWpdwQq5i",
        "outputId": "72b197ba-7c38-4e2f-8c7c-aa6b258407d9",
        "colab": {
          "base_uri": "https://localhost:8080/"
        }
      },
      "execution_count": 26,
      "outputs": [
        {
          "output_type": "stream",
          "name": "stdout",
          "text": [
            "1/1 [==============================] - 0s 25ms/step\n",
            "happy\n"
          ]
        }
      ]
    },
    {
      "cell_type": "code",
      "source": [
        "predict('/content/drive/MyDrive/TESS Toronto emotional speech set data/OAF_Sad/OAF_bean_sad.wav')"
      ],
      "metadata": {
        "id": "IU1omHfcQuTV",
        "outputId": "970b5a43-765e-4c65-f49a-bb58e73ca41e",
        "colab": {
          "base_uri": "https://localhost:8080/"
        }
      },
      "execution_count": 27,
      "outputs": [
        {
          "output_type": "stream",
          "name": "stdout",
          "text": [
            "1/1 [==============================] - 0s 32ms/step\n",
            "sad\n"
          ]
        }
      ]
    },
    {
      "cell_type": "code",
      "source": [
        "model_A.save('mymodel.h5')"
      ],
      "metadata": {
        "id": "Wk60qw7kRU7l"
      },
      "execution_count": null,
      "outputs": []
    }
  ]
}