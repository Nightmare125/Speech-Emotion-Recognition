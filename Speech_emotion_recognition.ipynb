{
  "nbformat": 4,
  "nbformat_minor": 0,
  "metadata": {
    "colab": {
      "provenance": [],
      "include_colab_link": true
    },
    "kernelspec": {
      "name": "python3",
      "display_name": "Python 3"
    },
    "language_info": {
      "name": "python"
    }
  },
  "cells": [
    {
      "cell_type": "markdown",
      "metadata": {
        "id": "view-in-github",
        "colab_type": "text"
      },
      "source": [
        "<a href=\"https://colab.research.google.com/github/Nightmare125/Speech-Emotion-Recognition/blob/main/Speech_emotion_recognition.ipynb\" target=\"_parent\"><img src=\"https://colab.research.google.com/assets/colab-badge.svg\" alt=\"Open In Colab\"/></a>"
      ]
    },
    {
      "cell_type": "code",
      "execution_count": 109,
      "metadata": {
        "colab": {
          "base_uri": "https://localhost:8080/"
        },
        "id": "eq0Km-vIdQTD",
        "outputId": "683c1dfb-57f7-46e1-ae0a-14d68493a6fd"
      },
      "outputs": [
        {
          "output_type": "stream",
          "name": "stdout",
          "text": [
            "\u001b[K     |████████████████████████████████| 135 kB 5.3 MB/s \n",
            "\u001b[K     |████████████████████████████████| 1.6 MB 41.6 MB/s \n",
            "\u001b[?25hLoaded Libraries\n"
          ]
        }
      ],
      "source": [
        "import numpy as np # linear algebra\n",
        "import pandas as pd # data processing, CSV file I/O(e.g. pd.rad_csv)\n",
        "import os #to use operating system dependent functionality\n",
        "import librosa # To extract speech features\n",
        "import wave # read and write WAV files\n",
        "import matplotlib.pyplot as plt # to generate the visualisation\n",
        "\n",
        "\n",
        "#MLP Classifier\n",
        "from sklearn.model_selection import train_test_split\n",
        "from sklearn.neural_network import MLPClassifier\n",
        "from sklearn.metrics import accuracy_score\n",
        "\n",
        "#LSTM Classifier\n",
        "import tensorflow as tf\n",
        "from tensorflow import keras\n",
        "!pip install -q -U keras-tuner\n",
        "import keras_tuner as kt\n",
        "from tensorflow.keras import layers,regularizers\n",
        "from tensorflow.keras.utils import to_categorical\n",
        "from keras.models import Sequential\n",
        "from keras.layers import *\n",
        "from tensorflow.keras.optimizers import RMSprop\n",
        "\n",
        "print(\"Loaded Libraries\")"
      ]
    },
    {
      "cell_type": "code",
      "source": [
        "from google.colab import drive\n",
        "drive.mount('/content/drive')"
      ],
      "metadata": {
        "colab": {
          "base_uri": "https://localhost:8080/"
        },
        "id": "926rK-Jlk3TL",
        "outputId": "f330d360-4d2b-4629-f8e7-9b2b7df35cb6"
      },
      "execution_count": 35,
      "outputs": [
        {
          "output_type": "stream",
          "name": "stdout",
          "text": [
            "Drive already mounted at /content/drive; to attempt to forcibly remount, call drive.mount(\"/content/drive\", force_remount=True).\n"
          ]
        }
      ]
    },
    {
      "cell_type": "code",
      "source": [
        "def extract_mfcc(wav_file_name):\n",
        "# This function extracts mfcc features and obtains the mean of each dimension\n",
        "# Input : path_to_wav_file\n",
        "# Output : mfcc_features '''\n",
        " y, sr = librosa.load(wav_file_name)\n",
        " mfccs = np.mean(librosa.feature.mfcc(y=y, sr=sr, n_mfcc=40).T,axis=0)\n",
        " return mfccs"
      ],
      "metadata": {
        "id": "gRvki1rVmLf6"
      },
      "execution_count": 36,
      "outputs": []
    },
    {
      "cell_type": "markdown",
      "source": [
        "##Load Dataset\n"
      ],
      "metadata": {
        "id": "6NjPzo52pHOr"
      }
    },
    {
      "cell_type": "code",
      "source": [
        "speech_labels = [] #to save extracted labels/file\n",
        "speech_data =[] #to save extracted features\n",
        "for dirname, _, filenames in os.walk('/content/drive/MyDrive/ravdess'):\n",
        "  for filename in filenames:\n",
        "    #print(os.path.join(dirname, filename))\n",
        "    speech_labels.append(int(filename[7:8]) - 1)#the index 7 and 8 of the file name represent the emotion label\n",
        "    wav_file_name = os.path.join(dirname, filename)\n",
        "    speech_data.append(extract_mfcc(wav_file_name))\n",
        "print(\"Dataset Loaded\")\n"
      ],
      "metadata": {
        "id": "2VR6veSKp8Wf",
        "outputId": "16978508-f392-40a6-890c-2e9636d4d50e",
        "colab": {
          "base_uri": "https://localhost:8080/"
        }
      },
      "execution_count": 37,
      "outputs": [
        {
          "output_type": "stream",
          "name": "stdout",
          "text": [
            "Dataset Loaded\n"
          ]
        }
      ]
    },
    {
      "cell_type": "code",
      "source": [
        "speech_data"
      ],
      "metadata": {
        "id": "UZH3o2M-8Ei9"
      },
      "execution_count": null,
      "outputs": []
    },
    {
      "cell_type": "code",
      "source": [
        "# convert label and data to arrays\n",
        "speech_data_array = np.asarray(speech_data)#convert input into an array\n",
        "speech_label_array = np.array(speech_labels)\n",
        "speech_label_array.shape #get tuple of array dimensions\n",
        "\n",
        "# make categorical labels\n",
        "labels_categorical = to_categorical(speech_label_array) #converts a class vector to binary matrix\n",
        "labels_categorical.shape"
      ],
      "metadata": {
        "id": "F1JKPZ038hrj",
        "outputId": "6c226339-9bfb-464b-fe8f-35d8744f57b7",
        "colab": {
          "base_uri": "https://localhost:8080/"
        }
      },
      "execution_count": 39,
      "outputs": [
        {
          "output_type": "execute_result",
          "data": {
            "text/plain": [
              "(1455, 8)"
            ]
          },
          "metadata": {},
          "execution_count": 39
        }
      ]
    },
    {
      "cell_type": "code",
      "source": [
        "speech_data_array.shape"
      ],
      "metadata": {
        "id": "K4Olu5vr-Vd1",
        "outputId": "7ffbe611-e755-4428-fa90-6f2c25b6e47c",
        "colab": {
          "base_uri": "https://localhost:8080/"
        }
      },
      "execution_count": 40,
      "outputs": [
        {
          "output_type": "execute_result",
          "data": {
            "text/plain": [
              "(1455, 40)"
            ]
          },
          "metadata": {},
          "execution_count": 40
        }
      ]
    },
    {
      "cell_type": "code",
      "source": [
        "x_train,x_test,y_train,y_test = train_test_split(np.array(speech_data_array),labels_categorical, test_size=0.20, random_state=9)"
      ],
      "metadata": {
        "id": "nXaCh_Kd-uGl"
      },
      "execution_count": 41,
      "outputs": []
    },
    {
      "cell_type": "code",
      "source": [
        "from tensorflow.python import training\n",
        "#Split the training, validating and testing sets\n",
        "number_of_samples = speech_data_array.shape[0]\n",
        "training_samples = int(number_of_samples * 0.8)\n",
        "validation_samples = int(number_of_samples * 0.1)\n",
        "test_samples = int(number_of_samples *0.1)\n"
      ],
      "metadata": {
        "id": "TLqhwkE3_kYl"
      },
      "execution_count": 42,
      "outputs": []
    },
    {
      "cell_type": "code",
      "source": [
        "#Define the LSTM Model\n",
        "def create_model_LSTM():\n",
        "  model = Sequential()\n",
        "  model.add(LSTM(128, return_sequences=False, input_shape=(40,1)))\n",
        "  model.add(Dense(128))\n",
        "  model.add(BatchNormalization())\n",
        "  model.add((Dropout(0.4)))\n",
        "  model.add(Activation(\"relu\"))\n",
        "  model.add(Dense(64))\n",
        "  model.add(BatchNormalization())\n",
        "  model.add((Dropout(0.4)))\n",
        "  model.add(Activation(\"relu\"))\n",
        "  model.add(Dense(32))\n",
        "  model.add(BatchNormalization())\n",
        "  model.add(Dropout(0.4))\n",
        "  model.add(Activation(\"relu\"))\n",
        "  model.add(Dense(16))\n",
        "  model.add(BatchNormalization())\n",
        "  model.add((Dropout(0.4)))\n",
        "  model.add(Activation(\"relu\"))\n",
        "  model.add(Dense(8))\n",
        "  model.add(BatchNormalization())\n",
        "  model.add(Dropout(0.4))\n",
        "  model.add(Activation(\"softmax\"))\n",
        "  \n",
        "  #configures the model for training\n",
        "  model.compile(loss = 'categorical_crossentropy', optimizer = 'Adam', metrics=['accuracy'])\n",
        "  return model\n",
        "\n",
        " \n",
        " "
      ],
      "metadata": {
        "id": "i3SaRs7J4Rri"
      },
      "execution_count": 111,
      "outputs": []
    },
    {
      "cell_type": "code",
      "source": [
        "w = np.expand_dims(speech_data_array[:training_samples], -1)"
      ],
      "metadata": {
        "id": "C_vPx7XB_j9R"
      },
      "execution_count": 112,
      "outputs": []
    },
    {
      "cell_type": "code",
      "source": [
        "w.shape"
      ],
      "metadata": {
        "id": "v_N7gge-AApV",
        "outputId": "6d0044db-51eb-4a0f-b4b1-bc493626429f",
        "colab": {
          "base_uri": "https://localhost:8080/"
        }
      },
      "execution_count": 113,
      "outputs": [
        {
          "output_type": "execute_result",
          "data": {
            "text/plain": [
              "(1164, 40, 1)"
            ]
          },
          "metadata": {},
          "execution_count": 113
        }
      ]
    },
    {
      "cell_type": "code",
      "source": [
        "#train using LSTM model\n",
        "model_A = create_model_LSTM()\n",
        "history = model_A.fit(np.expand_dims(speech_data_array[:training_samples],-1), labels_categorical[:training_samples], validation_data=(np.expand_dims(speech_data_array[training_samples:training_samples+validation_samples],-1), labels_categorical[training_samples:training_samples+validation_samples]), epochs=50, shuffle=True)"
      ],
      "metadata": {
        "id": "ehwx0JdYCwBq",
        "outputId": "8c61e32a-7789-4790-facb-a23918204337",
        "colab": {
          "base_uri": "https://localhost:8080/"
        }
      },
      "execution_count": 116,
      "outputs": [
        {
          "output_type": "stream",
          "name": "stdout",
          "text": [
            "Epoch 1/50\n",
            "37/37 [==============================] - 7s 84ms/step - loss: 2.7107 - accuracy: 0.1323 - val_loss: 2.0855 - val_accuracy: 0.1655\n",
            "Epoch 2/50\n",
            "37/37 [==============================] - 3s 69ms/step - loss: 2.6649 - accuracy: 0.1263 - val_loss: 2.0911 - val_accuracy: 0.1586\n",
            "Epoch 3/50\n",
            "37/37 [==============================] - 2s 62ms/step - loss: 2.6337 - accuracy: 0.1280 - val_loss: 2.0866 - val_accuracy: 0.1793\n",
            "Epoch 4/50\n",
            "37/37 [==============================] - 2s 64ms/step - loss: 2.5557 - accuracy: 0.1332 - val_loss: 2.0850 - val_accuracy: 0.1862\n",
            "Epoch 5/50\n",
            "37/37 [==============================] - 3s 85ms/step - loss: 2.4982 - accuracy: 0.1314 - val_loss: 2.0841 - val_accuracy: 0.1862\n",
            "Epoch 6/50\n",
            "37/37 [==============================] - 5s 134ms/step - loss: 2.4962 - accuracy: 0.1134 - val_loss: 2.0744 - val_accuracy: 0.1448\n",
            "Epoch 7/50\n",
            "37/37 [==============================] - 5s 124ms/step - loss: 2.4627 - accuracy: 0.1160 - val_loss: 2.0812 - val_accuracy: 0.1379\n",
            "Epoch 8/50\n",
            "37/37 [==============================] - 4s 121ms/step - loss: 2.3300 - accuracy: 0.1684 - val_loss: 2.0784 - val_accuracy: 0.1724\n",
            "Epoch 9/50\n",
            "37/37 [==============================] - 5s 126ms/step - loss: 2.3206 - accuracy: 0.1426 - val_loss: 2.0714 - val_accuracy: 0.1586\n",
            "Epoch 10/50\n",
            "37/37 [==============================] - 5s 134ms/step - loss: 2.2404 - accuracy: 0.1478 - val_loss: 2.0669 - val_accuracy: 0.1793\n",
            "Epoch 11/50\n",
            "37/37 [==============================] - 5s 137ms/step - loss: 2.2665 - accuracy: 0.1435 - val_loss: 2.0625 - val_accuracy: 0.1655\n",
            "Epoch 12/50\n",
            "37/37 [==============================] - 3s 77ms/step - loss: 2.2635 - accuracy: 0.1486 - val_loss: 2.0427 - val_accuracy: 0.1448\n",
            "Epoch 13/50\n",
            "37/37 [==============================] - 2s 63ms/step - loss: 2.2316 - accuracy: 0.1529 - val_loss: 2.0361 - val_accuracy: 0.1724\n",
            "Epoch 14/50\n",
            "37/37 [==============================] - 2s 64ms/step - loss: 2.1846 - accuracy: 0.1503 - val_loss: 2.0444 - val_accuracy: 0.1931\n",
            "Epoch 15/50\n",
            "37/37 [==============================] - 2s 62ms/step - loss: 2.1795 - accuracy: 0.1589 - val_loss: 2.0254 - val_accuracy: 0.1241\n",
            "Epoch 16/50\n",
            "37/37 [==============================] - 2s 64ms/step - loss: 2.1916 - accuracy: 0.1692 - val_loss: 1.9762 - val_accuracy: 0.1862\n",
            "Epoch 17/50\n",
            "37/37 [==============================] - 2s 60ms/step - loss: 2.1280 - accuracy: 0.1692 - val_loss: 2.0170 - val_accuracy: 0.1379\n",
            "Epoch 18/50\n",
            "37/37 [==============================] - 2s 63ms/step - loss: 2.1127 - accuracy: 0.1881 - val_loss: 2.0279 - val_accuracy: 0.1448\n",
            "Epoch 19/50\n",
            "37/37 [==============================] - 2s 63ms/step - loss: 2.1330 - accuracy: 0.1607 - val_loss: 1.9942 - val_accuracy: 0.1172\n",
            "Epoch 20/50\n",
            "37/37 [==============================] - 2s 61ms/step - loss: 2.1074 - accuracy: 0.1555 - val_loss: 2.0740 - val_accuracy: 0.1724\n",
            "Epoch 21/50\n",
            "37/37 [==============================] - 2s 62ms/step - loss: 2.0956 - accuracy: 0.1916 - val_loss: 1.9303 - val_accuracy: 0.2483\n",
            "Epoch 22/50\n",
            "37/37 [==============================] - 2s 61ms/step - loss: 2.0677 - accuracy: 0.1787 - val_loss: 1.9804 - val_accuracy: 0.1931\n",
            "Epoch 23/50\n",
            "37/37 [==============================] - 2s 63ms/step - loss: 2.0537 - accuracy: 0.1753 - val_loss: 2.0107 - val_accuracy: 0.0828\n",
            "Epoch 24/50\n",
            "37/37 [==============================] - 2s 63ms/step - loss: 2.0491 - accuracy: 0.1959 - val_loss: 1.9865 - val_accuracy: 0.1862\n",
            "Epoch 25/50\n",
            "37/37 [==============================] - 2s 63ms/step - loss: 2.0723 - accuracy: 0.1856 - val_loss: 1.9655 - val_accuracy: 0.1655\n",
            "Epoch 26/50\n",
            "37/37 [==============================] - 2s 62ms/step - loss: 2.0681 - accuracy: 0.1830 - val_loss: 1.9642 - val_accuracy: 0.1655\n",
            "Epoch 27/50\n",
            "37/37 [==============================] - 2s 63ms/step - loss: 2.0485 - accuracy: 0.1787 - val_loss: 1.9948 - val_accuracy: 0.1103\n",
            "Epoch 28/50\n",
            "37/37 [==============================] - 2s 63ms/step - loss: 2.0378 - accuracy: 0.1959 - val_loss: 1.9782 - val_accuracy: 0.1586\n",
            "Epoch 29/50\n",
            "37/37 [==============================] - 2s 62ms/step - loss: 2.0279 - accuracy: 0.1959 - val_loss: 1.9668 - val_accuracy: 0.2069\n",
            "Epoch 30/50\n",
            "37/37 [==============================] - 2s 62ms/step - loss: 2.0028 - accuracy: 0.2156 - val_loss: 1.9738 - val_accuracy: 0.2483\n",
            "Epoch 31/50\n",
            "37/37 [==============================] - 2s 63ms/step - loss: 2.0253 - accuracy: 0.1985 - val_loss: 1.9730 - val_accuracy: 0.1517\n",
            "Epoch 32/50\n",
            "37/37 [==============================] - 2s 63ms/step - loss: 2.0327 - accuracy: 0.1985 - val_loss: 1.9623 - val_accuracy: 0.2414\n",
            "Epoch 33/50\n",
            "37/37 [==============================] - 2s 63ms/step - loss: 2.0101 - accuracy: 0.2105 - val_loss: 1.9627 - val_accuracy: 0.1862\n",
            "Epoch 34/50\n",
            "37/37 [==============================] - 2s 63ms/step - loss: 2.0256 - accuracy: 0.1881 - val_loss: 1.9873 - val_accuracy: 0.2828\n",
            "Epoch 35/50\n",
            "37/37 [==============================] - 2s 62ms/step - loss: 2.0077 - accuracy: 0.1985 - val_loss: 1.9327 - val_accuracy: 0.2897\n",
            "Epoch 36/50\n",
            "37/37 [==============================] - 2s 63ms/step - loss: 2.0242 - accuracy: 0.1942 - val_loss: 1.9424 - val_accuracy: 0.2276\n",
            "Epoch 37/50\n",
            "37/37 [==============================] - 2s 63ms/step - loss: 1.9940 - accuracy: 0.1976 - val_loss: 1.9482 - val_accuracy: 0.3034\n",
            "Epoch 38/50\n",
            "37/37 [==============================] - 2s 63ms/step - loss: 1.9867 - accuracy: 0.2105 - val_loss: 1.9728 - val_accuracy: 0.2483\n",
            "Epoch 39/50\n",
            "37/37 [==============================] - 2s 63ms/step - loss: 2.0020 - accuracy: 0.2062 - val_loss: 2.0110 - val_accuracy: 0.2483\n",
            "Epoch 40/50\n",
            "37/37 [==============================] - 2s 63ms/step - loss: 1.9833 - accuracy: 0.2208 - val_loss: 1.9601 - val_accuracy: 0.1655\n",
            "Epoch 41/50\n",
            "37/37 [==============================] - 2s 64ms/step - loss: 1.9773 - accuracy: 0.2268 - val_loss: 1.9637 - val_accuracy: 0.2276\n",
            "Epoch 42/50\n",
            "37/37 [==============================] - 2s 65ms/step - loss: 1.9907 - accuracy: 0.2225 - val_loss: 1.9380 - val_accuracy: 0.3034\n",
            "Epoch 43/50\n",
            "37/37 [==============================] - 2s 63ms/step - loss: 1.9909 - accuracy: 0.2105 - val_loss: 1.9534 - val_accuracy: 0.2759\n",
            "Epoch 44/50\n",
            "37/37 [==============================] - 2s 65ms/step - loss: 1.9696 - accuracy: 0.2320 - val_loss: 1.9677 - val_accuracy: 0.2276\n",
            "Epoch 45/50\n",
            "37/37 [==============================] - 2s 63ms/step - loss: 1.9839 - accuracy: 0.2251 - val_loss: 1.9569 - val_accuracy: 0.2621\n",
            "Epoch 46/50\n",
            "37/37 [==============================] - 2s 64ms/step - loss: 1.9918 - accuracy: 0.1890 - val_loss: 1.9643 - val_accuracy: 0.2000\n",
            "Epoch 47/50\n",
            "37/37 [==============================] - 2s 63ms/step - loss: 1.9709 - accuracy: 0.2208 - val_loss: 1.9521 - val_accuracy: 0.2414\n",
            "Epoch 48/50\n",
            "37/37 [==============================] - 2s 63ms/step - loss: 1.9753 - accuracy: 0.2053 - val_loss: 1.9465 - val_accuracy: 0.2621\n",
            "Epoch 49/50\n",
            "37/37 [==============================] - 2s 62ms/step - loss: 1.9833 - accuracy: 0.2079 - val_loss: 1.9490 - val_accuracy: 0.2690\n",
            "Epoch 50/50\n",
            "37/37 [==============================] - 2s 63ms/step - loss: 1.9830 - accuracy: 0.2234 - val_loss: 1.9327 - val_accuracy: 0.2621\n"
          ]
        }
      ]
    },
    {
      "cell_type": "code",
      "source": [
        "###Loss plots using LSTM model\n",
        "loss = history.history['loss']\n",
        "val_loss = history.history['val_loss']\n",
        "\n",
        "epochs= range(1, len(loss) + 1)\n",
        "plt.plot(epochs, loss, 'ro', label ='Training loss')\n",
        "plt.plot(epochs, val_loss, 'b', label ='Validation Loss')\n",
        "plt.title('Training and validation loss')\n",
        "plt.xlabel('Epochs')\n",
        "plt.ylabel('Loss')\n",
        "plt.legend()\n",
        "plt.show()"
      ],
      "metadata": {
        "id": "I7l1-4eOAKUC",
        "outputId": "e80fa846-c4f1-4046-b61e-ebb5c88d5609",
        "colab": {
          "base_uri": "https://localhost:8080/",
          "height": 295
        }
      },
      "execution_count": 117,
      "outputs": [
        {
          "output_type": "display_data",
          "data": {
            "text/plain": [
              "<Figure size 432x288 with 1 Axes>"
            ],
            "image/png": "[encoded data removed]"
          },
          "metadata": {
            "needs_background": "light"
          }
        }
      ]
    },
    {
      "cell_type": "code",
      "source": [
        "###Accuracy plots using LSTM model\n",
        "acc = history.history['accuracy']\n",
        "val_acc = history.history['val_accuracy']\n",
        "\n",
        "plt.plot(epochs, acc, 'ro', label ='Training acc')\n",
        "plt.plot(epochs, val_acc, 'b', label ='Validation acc')\n",
        "plt.title('Training and validation accuracy')\n",
        "plt.xlabel('Epochs')\n",
        "plt.ylabel('Loss')\n",
        "plt.legend()\n",
        "plt.show()"
      ],
      "metadata": {
        "id": "k3Pkco3qJhwx",
        "outputId": "e08b015b-6746-40a3-e2d6-33364e05c4f3",
        "colab": {
          "base_uri": "https://localhost:8080/",
          "height": 295
        }
      },
      "execution_count": 118,
      "outputs": [
        {
          "output_type": "display_data",
          "data": {
            "text/plain": [
              "<Figure size 432x288 with 1 Axes>"
            ],
            "image/png": "[encoded data removed]"
          },
          "metadata": {
            "needs_background": "light"
          }
        }
      ]
    },
    {
      "cell_type": "code",
      "source": [
        "###evaluate using model A\n",
        "model_A.evaluate(np.expand_dims(speech_data_array[training_samples + validation_samples:],-1), labels_categorical[training_samples+validation_samples:])"
      ],
      "metadata": {
        "id": "dhmrxKA0LCZE",
        "outputId": "458a8719-53a9-40e2-8b31-70da17bf9b42",
        "colab": {
          "base_uri": "https://localhost:8080/"
        }
      },
      "execution_count": 65,
      "outputs": [
        {
          "output_type": "stream",
          "name": "stdout",
          "text": [
            "5/5 [==============================] - 0s 19ms/step - loss: 1.8328 - accuracy: 0.2808\n"
          ]
        },
        {
          "output_type": "execute_result",
          "data": {
            "text/plain": [
              "[1.8328039646148682, 0.28082191944122314]"
            ]
          },
          "metadata": {},
          "execution_count": 65
        }
      ]
    },
    {
      "cell_type": "code",
      "source": [
        "emotions={1 : 'neutral', 2 : 'calm', 3 : 'happy', 4 : 'sad', 5 : 'angry', 6 : 'fearful', 7 : 'disgust', 8 : 'surprised'}\n",
        "def predict(wav_filepath):\n",
        "  test_point=extract_mfcc(wav_filepath)\n",
        "  test_point=np.reshape(test_point,newshape=(1,40,1))\n",
        "  predictions=model_A.predict(test_point)\n",
        "  print(emotions[np.argmax(predictions[0])+1])"
      ],
      "metadata": {
        "id": "n6ocbJ1nLrbB"
      },
      "execution_count": 66,
      "outputs": []
    },
    {
      "cell_type": "code",
      "source": [
        "predict('/content/drive/MyDrive/ravdess/Actor_04/03-01-01-01-01-01-04.wav')"
      ],
      "metadata": {
        "id": "21zSgRJvPH2n",
        "outputId": "9cafbb53-0b05-408b-f861-13f83f4d044c",
        "colab": {
          "base_uri": "https://localhost:8080/"
        }
      },
      "execution_count": 67,
      "outputs": [
        {
          "output_type": "stream",
          "name": "stdout",
          "text": [
            "1/1 [==============================] - 1s 555ms/step\n",
            "surprised\n"
          ]
        }
      ]
    },
    {
      "cell_type": "code",
      "source": [
        "predict('/content/drive/MyDrive/ravdess/Actor_04/03-01-03-01-02-01-04.wav')"
      ],
      "metadata": {
        "id": "Sv5rWpdwQq5i",
        "outputId": "2a03f0c3-4b7d-47d9-ad2a-21f731e85aa4",
        "colab": {
          "base_uri": "https://localhost:8080/"
        }
      },
      "execution_count": 68,
      "outputs": [
        {
          "output_type": "stream",
          "name": "stdout",
          "text": [
            "1/1 [==============================] - 0s 28ms/step\n",
            "surprised\n"
          ]
        }
      ]
    },
    {
      "cell_type": "code",
      "source": [
        "predict('/content/drive/MyDrive/TESS Toronto emotional speech set data/OAF_Sad/OAF_bean_sad.wav')"
      ],
      "metadata": {
        "id": "IU1omHfcQuTV",
        "outputId": "f27bb83b-9a26-494d-a0ff-2dbfb76be4b2",
        "colab": {
          "base_uri": "https://localhost:8080/"
        }
      },
      "execution_count": 69,
      "outputs": [
        {
          "output_type": "stream",
          "name": "stdout",
          "text": [
            "1/1 [==============================] - 0s 24ms/step\n",
            "sad\n"
          ]
        }
      ]
    },
    {
      "cell_type": "code",
      "source": [
        "from tensorflow.keras.models import load_model\n",
        "model_A.save('/content/drive/MyDrive/Models/speech.h5')"
      ],
      "metadata": {
        "id": "Wk60qw7kRU7l"
      },
      "execution_count": 70,
      "outputs": []
    }
  ]
}