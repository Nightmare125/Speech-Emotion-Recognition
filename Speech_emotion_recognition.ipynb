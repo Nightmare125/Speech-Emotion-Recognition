{
  "nbformat": 4,
  "nbformat_minor": 0,
  "metadata": {
    "colab": {
      "provenance": [],
      "include_colab_link": true
    },
    "kernelspec": {
      "name": "python3",
      "display_name": "Python 3"
    },
    "language_info": {
      "name": "python"
    }
  },
  "cells": [
    {
      "cell_type": "markdown",
      "metadata": {
        "id": "view-in-github",
        "colab_type": "text"
      },
      "source": [
        "<a href=\"https://colab.research.google.com/github/Nightmare125/Speech-Emotion-Recognition/blob/main/Speech_emotion_recognition.ipynb\" target=\"_parent\"><img src=\"https://colab.research.google.com/assets/colab-badge.svg\" alt=\"Open In Colab\"/></a>"
      ]
    },
    {
      "cell_type": "code",
      "execution_count": 2,
      "metadata": {
        "colab": {
          "base_uri": "https://localhost:8080/"
        },
        "id": "eq0Km-vIdQTD",
        "outputId": "1a929366-4b2f-4ec2-82e3-5d05325b1408"
      },
      "outputs": [
        {
          "output_type": "stream",
          "name": "stdout",
          "text": [
            "Loaded Libraries\n"
          ]
        }
      ],
      "source": [
        "import numpy as np # linear algebra\n",
        "import pandas as pd # data processing, CSV file I/O(e.g. pd.rad_csv)\n",
        "import os #to use operating system dependent functionality\n",
        "import librosa # To extract speech features\n",
        "import wave # read and write WAV files\n",
        "import matplotlib.pyplot as plt # to generate the visualisation\n",
        "\n",
        "\n",
        "#MLP Classifier\n",
        "from sklearn.model_selection import train_test_split\n",
        "from sklearn.neural_network import MLPClassifier\n",
        "from sklearn.metrics import accuracy_score\n",
        "\n",
        "#LSTM Classifier\n",
        "import keras\n",
        "from tensorflow.keras.utils import to_categorical\n",
        "from keras.models import Sequential\n",
        "from keras.layers import *\n",
        "from tensorflow.keras.optimizers import RMSprop\n",
        "\n",
        "print(\"Loaded Libraries\")"
      ]
    },
    {
      "cell_type": "code",
      "source": [
        "from google.colab import drive\n",
        "drive.mount('/content/drive')"
      ],
      "metadata": {
        "colab": {
          "base_uri": "https://localhost:8080/"
        },
        "id": "926rK-Jlk3TL",
        "outputId": "01d286b4-f6ff-4d02-c305-1e404ae4b139"
      },
      "execution_count": 1,
      "outputs": [
        {
          "output_type": "stream",
          "name": "stdout",
          "text": [
            "Mounted at /content/drive\n"
          ]
        }
      ]
    },
    {
      "cell_type": "code",
      "source": [
        "def extract_mfcc(wav_file_name):\n",
        "# This function extracts mfcc features and obtains the mean of each dimension\n",
        "# Input : path_to_wav_file\n",
        "# Output : mfcc_features '''\n",
        " y, sr = librosa.load(wav_file_name)\n",
        " mfccs = np.mean(librosa.feature.mfcc(y=y, sr=sr, n_mfcc=40).T,axis=0)\n",
        " return mfccs"
      ],
      "metadata": {
        "id": "gRvki1rVmLf6"
      },
      "execution_count": 5,
      "outputs": []
    },
    {
      "cell_type": "markdown",
      "source": [
        "##Load Dataset\n"
      ],
      "metadata": {
        "id": "6NjPzo52pHOr"
      }
    },
    {
      "cell_type": "code",
      "source": [
        "speech_labels = [] #to save extracted labels/file\n",
        "speech_data =[] #to save extracted features\n",
        "for dirname, _, filenames in os.walk('/content/drive/MyDrive/ravdess'):\n",
        "  for filename in filenames:\n",
        "    #print(os.path.join(dirname, filename))\n",
        "    speech_labels.append(int(filename[7:8]) - 1)#the index 7 and 8 of the file name represent the emotion label\n",
        "    wav_file_name = os.path.join(dirname, filename)\n",
        "    speech_data.append(extract_mfcc(wav_file_name))\n",
        "print(\"Dataset Loaded\")\n"
      ],
      "metadata": {
        "id": "2VR6veSKp8Wf",
        "outputId": "1691220b-8c0c-4783-dcfc-8ab1b54334c5",
        "colab": {
          "base_uri": "https://localhost:8080/"
        }
      },
      "execution_count": 21,
      "outputs": [
        {
          "output_type": "stream",
          "name": "stdout",
          "text": [
            "Dataset Loaded\n"
          ]
        }
      ]
    },
    {
      "cell_type": "code",
      "source": [
        "speech_data"
      ],
      "metadata": {
        "id": "UZH3o2M-8Ei9"
      },
      "execution_count": null,
      "outputs": []
    },
    {
      "cell_type": "code",
      "source": [
        "# convert label and data to arrays\n",
        "speech_data_array = np.asarray(speech_data)#convert input into an array\n",
        "speech_label_array = np.array(speech_labels)\n",
        "speech_label_array.shape #get tuple of array dimensions\n",
        "\n",
        "# make categorical labels\n",
        "labels_categorical = to_categorical(speech_label_array) #converts a class vector to binary matrix\n",
        "labels_categorical.shape"
      ],
      "metadata": {
        "id": "F1JKPZ038hrj"
      },
      "execution_count": null,
      "outputs": []
    },
    {
      "cell_type": "code",
      "source": [
        "speech_data_array.shape"
      ],
      "metadata": {
        "id": "K4Olu5vr-Vd1"
      },
      "execution_count": null,
      "outputs": []
    },
    {
      "cell_type": "code",
      "source": [
        "x_train,x_test,y_train,y_test = train_test_split(np.array(speech_data_array),labels_categorical, test_size=0.20, random_state=9)"
      ],
      "metadata": {
        "id": "nXaCh_Kd-uGl"
      },
      "execution_count": 26,
      "outputs": []
    },
    {
      "cell_type": "code",
      "source": [],
      "metadata": {
        "id": "TLqhwkE3_kYl"
      },
      "execution_count": null,
      "outputs": []
    }
  ]
}